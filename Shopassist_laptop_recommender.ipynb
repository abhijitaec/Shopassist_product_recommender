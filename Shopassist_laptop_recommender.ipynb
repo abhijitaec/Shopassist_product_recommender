{
 "cells": [
  {
   "cell_type": "markdown",
   "id": "f18c15e1-df49-417e-b61f-0a7ba8424db7",
   "metadata": {},
   "source": [
    "# -Shop assist AI-"
   ]
  },
  {
   "cell_type": "code",
   "execution_count": 1,
   "id": "6cd78c58-6ba4-42cc-97d0-fe6c79936b05",
   "metadata": {
    "tags": []
   },
   "outputs": [],
   "source": [
    "import pandas as pd\n",
    "from IPython.display import display, HTML"
   ]
  },
  {
   "cell_type": "code",
   "execution_count": 2,
   "id": "0bf03355-ee11-4992-88d4-c620778e81b8",
   "metadata": {
    "tags": []
   },
   "outputs": [
    {
     "data": {
      "text/html": [
       "<div>\n",
       "<style scoped>\n",
       "    .dataframe tbody tr th:only-of-type {\n",
       "        vertical-align: middle;\n",
       "    }\n",
       "\n",
       "    .dataframe tbody tr th {\n",
       "        vertical-align: top;\n",
       "    }\n",
       "\n",
       "    .dataframe thead th {\n",
       "        text-align: right;\n",
       "    }\n",
       "</style>\n",
       "<table border=\"1\" class=\"dataframe\">\n",
       "  <thead>\n",
       "    <tr style=\"text-align: right;\">\n",
       "      <th></th>\n",
       "      <th>Brand</th>\n",
       "      <th>Model Name</th>\n",
       "      <th>Core</th>\n",
       "      <th>CPU Manufacturer</th>\n",
       "      <th>Clock Speed</th>\n",
       "      <th>RAM Size</th>\n",
       "      <th>Storage Type</th>\n",
       "      <th>Display Type</th>\n",
       "      <th>Display Size</th>\n",
       "      <th>Graphics Processor</th>\n",
       "      <th>Screen Resolution</th>\n",
       "      <th>OS</th>\n",
       "      <th>Laptop Weight</th>\n",
       "      <th>Special Features</th>\n",
       "      <th>Warranty</th>\n",
       "      <th>Average Battery Life</th>\n",
       "      <th>Price</th>\n",
       "      <th>Description</th>\n",
       "    </tr>\n",
       "  </thead>\n",
       "  <tbody>\n",
       "    <tr>\n",
       "      <th>0</th>\n",
       "      <td>Dell</td>\n",
       "      <td>Inspiron</td>\n",
       "      <td>i5</td>\n",
       "      <td>Intel</td>\n",
       "      <td>2.4 GHz</td>\n",
       "      <td>8GB</td>\n",
       "      <td>SSD</td>\n",
       "      <td>LCD</td>\n",
       "      <td>15.6\"</td>\n",
       "      <td>Intel UHD</td>\n",
       "      <td>1920x1080</td>\n",
       "      <td>Windows 10</td>\n",
       "      <td>2.5 kg</td>\n",
       "      <td>Backlit Keyboard</td>\n",
       "      <td>1 year</td>\n",
       "      <td>6 hours</td>\n",
       "      <td>35,000</td>\n",
       "      <td>The Dell Inspiron is a versatile laptop that c...</td>\n",
       "    </tr>\n",
       "  </tbody>\n",
       "</table>\n",
       "</div>"
      ],
      "text/plain": [
       "  Brand Model Name Core CPU Manufacturer Clock Speed RAM Size Storage Type  \\\n",
       "0  Dell   Inspiron   i5            Intel     2.4 GHz      8GB          SSD   \n",
       "\n",
       "  Display Type Display Size Graphics Processor Screen Resolution          OS  \\\n",
       "0          LCD        15.6\"          Intel UHD         1920x1080  Windows 10   \n",
       "\n",
       "  Laptop Weight  Special Features Warranty Average Battery Life   Price  \\\n",
       "0        2.5 kg  Backlit Keyboard   1 year              6 hours  35,000   \n",
       "\n",
       "                                         Description  \n",
       "0  The Dell Inspiron is a versatile laptop that c...  "
      ]
     },
     "execution_count": 2,
     "metadata": {},
     "output_type": "execute_result"
    }
   ],
   "source": [
    "df = pd.read_csv('laptop_data.csv')\n",
    "df.head(1)"
   ]
  },
  {
   "cell_type": "code",
   "execution_count": 3,
   "id": "5fe52e78-1c1e-4877-b58f-029ca151927b",
   "metadata": {
    "collapsed": true,
    "jupyter": {
     "outputs_hidden": true
    },
    "tags": []
   },
   "outputs": [
    {
     "data": {
      "text/plain": [
       "'The Dell Inspiron is a versatile laptop that combines powerful performance and affordability. It features an Intel Core i5 processor clocked at 2.4 GHz, ensuring smooth multitasking and efficient computing. With 8GB of RAM and an SSD, it offers quick data access and ample storage capacity. The laptop sports a vibrant 15.6\" LCD display with a resolution of 1920x1080, delivering crisp visuals and immersive viewing experience. Weighing just 2.5 kg, it is highly portable, making it ideal for on-the-go usage. Additionally, it boasts an Intel UHD GPU for decent graphical performance and a backlit keyboard for enhanced typing convenience. With a one-year warranty and a battery life of up to 6 hours, the Dell Inspiron is a reliable companion for work or entertainment. All these features are packed at an affordable price of 35,000, making it an excellent choice for budget-conscious users.'"
      ]
     },
     "execution_count": 3,
     "metadata": {},
     "output_type": "execute_result"
    }
   ],
   "source": [
    "df['Description'][0]"
   ]
  },
  {
   "cell_type": "code",
   "execution_count": null,
   "id": "10143193-9ebb-49a3-afcd-e8b2ba501ae7",
   "metadata": {},
   "outputs": [],
   "source": []
  },
  {
   "cell_type": "markdown",
   "id": "c89144d8-fd86-4f4c-947e-ea8ff151b976",
   "metadata": {},
   "source": [
    "## Implementation"
   ]
  },
  {
   "cell_type": "code",
   "execution_count": 4,
   "id": "b1e77002-9954-4e9b-80d5-1b72296d121a",
   "metadata": {
    "tags": []
   },
   "outputs": [],
   "source": [
    "import os, json, re, ast\n",
    "import openai\n",
    "from tenacity import retry, wait_random_exponential, stop_after_attempt"
   ]
  },
  {
   "cell_type": "code",
   "execution_count": 5,
   "id": "8262b81d-cdb3-461e-b3b6-4baa972b3ce8",
   "metadata": {
    "tags": []
   },
   "outputs": [],
   "source": [
    "openai.api_key = open('OPENAI_API_Key.txt', 'r').read().strip()\n",
    "os.environ['OPEN_AI_APIKEY'] = openai.api_key"
   ]
  },
  {
   "cell_type": "code",
   "execution_count": null,
   "id": "6a1cff04-859c-4c35-b38b-9e2f96d433f4",
   "metadata": {},
   "outputs": [],
   "source": []
  },
  {
   "cell_type": "markdown",
   "id": "8113608c-31f7-4668-8988-82480f83df8d",
   "metadata": {},
   "source": [
    "## Step-1: Initialize conversation"
   ]
  },
  {
   "cell_type": "code",
   "execution_count": 6,
   "id": "c3fbcc91-3e44-436d-828f-51dff218ab49",
   "metadata": {
    "tags": []
   },
   "outputs": [],
   "source": [
    "def initialize_conversation():\n",
    "    delimiter = \"####\"\n",
    "    example_user_requirement = {'GPU intensity':'high', 'Display quality':'high', 'Portability':'low', 'Multitasking':'high', 'Processing speed':'high'}\n",
    "    sys_msg = f\"\"\"\n",
    "    You are an intelligent laptop gadget and your goal is to find the best laptop for the user.\n",
    "    You need to ask relevant questions and understand the user profile by analize the user response.\n",
    "    Your final objective is to fill the values for the different keys ('GPU intensity', 'Display quality', 'portability', 'Multitasking', 'Processing speed')\n",
    "    The key value pairs define the user's profile.\n",
    "    The python dictionary look like this {{'GPU intensity':'values', 'Display quality':'values', 'portability':'values', 'Multitasking':'values', 'Processing speed':'values'}}\n",
    "    The values for all keys, except 'budget', should be 'low', 'medium', 'high' based on the importance of the product..\n",
    "    The value for 'budget' should be numerical value extracted from user's response\n",
    "    The value currently in the dictioanry are only representative values.\n",
    "    \n",
    "    {delimiter} Here are some instructions around the values for the different keys. If you do not follow this, you will be heavily penalized.\n",
    "    - the values for all the keys, except 'budget', should strictly be either 'low', 'medium', 'high' based on the importance of the corresponding keys, as stated by user. \n",
    "    - the value for 'budget' should be numerical value extracted from the user's response.\n",
    "    'Budget' value need to be greater than or equal to the 25000 INR. If user says less than that, please mension that there are no laptop in this range.\n",
    "    Do not randomly assign values to any of the keys. The values need to be inferred from the user's respone.\n",
    "    {delimiter}\n",
    "    \n",
    "     To fill the dictionary, you need to have the following chain of the thoughts:\n",
    "     {delimiter} Thought 1:Ask a question to understand the user's profile and requirements. \\n\n",
    "     If their primary use of the laptop is unclear.Ask another question to comprehend their needs.\n",
    "     You are trying to fill the values of all the keys('GPU intensity', 'Display quality', 'portability', 'Multitasking', 'Processing speed').\n",
    "     Identify the keys for which you can fill the values confidently using the understandings. \\n\n",
    "     Remember the instructions around the values for the different keys.\n",
    "     Answer 'Yes' or 'No' to indicate if you understand the requirements and have updated the values for the relevant keys. \\n\n",
    "     If yes, proceed to the next step. Otherwise, perhaps the question to capture their profile. \\n{delimiter}\n",
    "     \n",
    "     {delimiter} Thought 2:Now you are tryin to fill the values for the rest of the keys which you couldn't in the previous step. \\n\n",
    "     Remember the instructions for the different keys. Ask questions you might have for all the keys to strengthen your understanding of the user's profile.\n",
    "     Answer 'Yes' or 'No' to indicate if you understood all the values for the keys and are confident about the same.\n",
    "     If yes, move to the next Thought. If no ask question on the keys whose values you are unsure of. \\n\n",
    "     it is a good practice to ask question with a sound logic as opposed to directly citing the key you want to understand value for.{delimiter}\n",
    "     \n",
    "     {delimiter} Thought 3: Check if you have correctly updated the values for the different keys in the python dictionary.\n",
    "     If you are not confident about any of the values, ask clarifying question.{delimiter}\n",
    "     \n",
    "     Follow the above chain of thoughts and only updated python dictionary. \\n\n",
    "     \n",
    "     \n",
    "     {delimiter} Here is sample conversation between user and assistent:\n",
    "     User: \"Hi, I am an editor\"\n",
    "     Assistant: \"Great! as an editor, you likely require a laptop that can handle demanding tasks. Hence, the laptop should have high multitasking capability. \"\n",
    "     User: \"I primarily work with after effects.\"\n",
    "     Assistant: Thank you for providing that information. Working with after effects involves working with graphics, animations and rendering which will require High GPU \n",
    "     User: \"Yes, sometime I work with a 4k video as well\"\n",
    "     Assitant: \"Thank you for providing that information. Processing 4k videos will require a good processor and high GPU. I think we have already determind that\"\n",
    "     User: \"Yes, sometime I travel but do not carry my laptop.\"\"\n",
    "     Assistant: \"Could you kindly let me know your budget for the laptop? This will help me to find options that fit your budget.\"\"\n",
    "     User: \"My max budget is 1.5 lakhs inr\"\n",
    "     Assistant: \"{example_user_requirement}\"\n",
    "     {delimiter}\n",
    "     Start with a short welcome message and encourage the user to share their requirements.\n",
    "    \"\"\"\n",
    "    \n",
    "    \n",
    "    conversation = [{\"role\":\"system\", \"content\":sys_msg}]\n",
    "    return conversation"
   ]
  },
  {
   "cell_type": "code",
   "execution_count": 7,
   "id": "4b532528-ff17-432c-bd4d-c342aadd9270",
   "metadata": {
    "collapsed": true,
    "jupyter": {
     "outputs_hidden": true
    },
    "tags": []
   },
   "outputs": [
    {
     "name": "stdout",
     "output_type": "stream",
     "text": [
      "[{'role': 'system', 'content': '\\n    You are an intelligent laptop gadget and your goal is to find the best laptop for the user.\\n    You need to ask relevant questions and understand the user profile by analize the user response.\\n    Your final objective is to fill the values for the different keys (\\'GPU intensity\\', \\'Display quality\\', \\'portability\\', \\'Multitasking\\', \\'Processing speed\\')\\n    The key value pairs define the user\\'s profile.\\n    The python dictionary look like this {\\'GPU intensity\\':\\'values\\', \\'Display quality\\':\\'values\\', \\'portability\\':\\'values\\', \\'Multitasking\\':\\'values\\', \\'Processing speed\\':\\'values\\'}\\n    The values for all keys, except \\'budget\\', should be \\'low\\', \\'medium\\', \\'high\\' based on the importance of the product..\\n    The value for \\'budget\\' should be numerical value extracted from user\\'s response\\n    The value currently in the dictioanry are only representative values.\\n    \\n    #### Here are some instructions around the values for the different keys. If you do not follow this, you will be heavily penalized.\\n    - the values for all the keys, except \\'budget\\', should strictly be either \\'low\\', \\'medium\\', \\'high\\' based on the importance of the corresponding keys, as stated by user. \\n    - the value for \\'budget\\' should be numerical value extracted from the user\\'s response.\\n    \\'Budget\\' value need to be greater than or equal to the 25000 INR. If user says less than that, please mension that there are no laptop in this range.\\n    Do not randomly assign values to any of the keys. The values need to be inferred from the user\\'s respone.\\n    ####\\n    \\n     To fill the dictionary, you need to have the following chain of the thoughts:\\n     #### Thought 1:Ask a question to understand the user\\'s profile and requirements. \\n\\n     If their primary use of the laptop is unclear.Ask another question to comprehend their needs.\\n     You are trying to fill the values of all the keys(\\'GPU intensity\\', \\'Display quality\\', \\'portability\\', \\'Multitasking\\', \\'Processing speed\\').\\n     Identify the keys for which you can fill the values confidently using the understandings. \\n\\n     Remember the instructions around the values for the different keys.\\n     Answer \\'Yes\\' or \\'No\\' to indicate if you understand the requirements and have updated the values for the relevant keys. \\n\\n     If yes, proceed to the next step. Otherwise, perhaps the question to capture their profile. \\n####\\n     \\n     #### Thought 2:Now you are tryin to fill the values for the rest of the keys which you couldn\\'t in the previous step. \\n\\n     Remember the instructions for the different keys. Ask questions you might have for all the keys to strengthen your understanding of the user\\'s profile.\\n     Answer \\'Yes\\' or \\'No\\' to indicate if you understood all the values for the keys and are confident about the same.\\n     If yes, move to the next Thought. If no ask question on the keys whose values you are unsure of. \\n\\n     it is a good practice to ask question with a sound logic as opposed to directly citing the key you want to understand value for.####\\n     \\n     #### Thought 3: Check if you have correctly updated the values for the different keys in the python dictionary.\\n     If you are not confident about any of the values, ask clarifying question.####\\n     \\n     Follow the above chain of thoughts and only updated python dictionary. \\n\\n     \\n     \\n     #### Here is sample conversation between user and assistent:\\n     User: \"Hi, I am an editor\"\\n     Assistant: \"Great! as an editor, you likely require a laptop that can handle demanding tasks. Hence, the laptop should have high multitasking capability. \"\\n     User: \"I primarily work with after effects.\"\\n     Assistant: Thank you for providing that information. Working with after effects involves working with graphics, animations and rendering which will require High GPU \\n     User: \"Yes, sometime I work with a 4k video as well\"\\n     Assitant: \"Thank you for providing that information. Processing 4k videos will require a good processor and high GPU. I think we have already determind that\"\\n     User: \"Yes, sometime I travel but do not carry my laptop.\"\"\\n     Assistant: \"Could you kindly let me know your budget for the laptop? This will help me to find options that fit your budget.\"\"\\n     User: \"My max budget is 1.5 lakhs inr\"\\n     Assistant: \"{\\'GPU intensity\\': \\'high\\', \\'Display quality\\': \\'high\\', \\'Portability\\': \\'low\\', \\'Multitasking\\': \\'high\\', \\'Processing speed\\': \\'high\\'}\"\\n     ####\\n     Start with a short welcome message and encourage the user to share their requirements.\\n    '}]\n"
     ]
    }
   ],
   "source": [
    "check_conversation = initialize_conversation()\n",
    "print(check_conversation)"
   ]
  },
  {
   "cell_type": "code",
   "execution_count": 8,
   "id": "931033ff-ce74-481c-9008-a4145a07e46b",
   "metadata": {
    "collapsed": true,
    "jupyter": {
     "outputs_hidden": true
    },
    "tags": []
   },
   "outputs": [
    {
     "name": "stdout",
     "output_type": "stream",
     "text": [
      "\n",
      "    You are an intelligent laptop gadget and your goal is to find the best laptop for the user.\n",
      "    You need to ask relevant questions and understand the user profile by analize the user response.\n",
      "    Your final objective is to fill the values for the different keys ('GPU intensity', 'Display quality', 'portability', 'Multitasking', 'Processing speed')\n",
      "    The key value pairs define the user's profile.\n",
      "    The python dictionary look like this {'GPU intensity':'values', 'Display quality':'values', 'portability':'values', 'Multitasking':'values', 'Processing speed':'values'}\n",
      "    The values for all keys, except 'budget', should be 'low', 'medium', 'high' based on the importance of the product..\n",
      "    The value for 'budget' should be numerical value extracted from user's response\n",
      "    The value currently in the dictioanry are only representative values.\n",
      "    \n",
      "    #### Here are some instructions around the values for the different keys. If you do not follow this, you will be heavily penalized.\n",
      "    - the values for all the keys, except 'budget', should strictly be either 'low', 'medium', 'high' based on the importance of the corresponding keys, as stated by user. \n",
      "    - the value for 'budget' should be numerical value extracted from the user's response.\n",
      "    'Budget' value need to be greater than or equal to the 25000 INR. If user says less than that, please mension that there are no laptop in this range.\n",
      "    Do not randomly assign values to any of the keys. The values need to be inferred from the user's respone.\n",
      "    ####\n",
      "    \n",
      "     To fill the dictionary, you need to have the following chain of the thoughts:\n",
      "     #### Thought 1:Ask a question to understand the user's profile and requirements. \n",
      "\n",
      "     If their primary use of the laptop is unclear.Ask another question to comprehend their needs.\n",
      "     You are trying to fill the values of all the keys('GPU intensity', 'Display quality', 'portability', 'Multitasking', 'Processing speed').\n",
      "     Identify the keys for which you can fill the values confidently using the understandings. \n",
      "\n",
      "     Remember the instructions around the values for the different keys.\n",
      "     Answer 'Yes' or 'No' to indicate if you understand the requirements and have updated the values for the relevant keys. \n",
      "\n",
      "     If yes, proceed to the next step. Otherwise, perhaps the question to capture their profile. \n",
      "####\n",
      "     \n",
      "     #### Thought 2:Now you are tryin to fill the values for the rest of the keys which you couldn't in the previous step. \n",
      "\n",
      "     Remember the instructions for the different keys. Ask questions you might have for all the keys to strengthen your understanding of the user's profile.\n",
      "     Answer 'Yes' or 'No' to indicate if you understood all the values for the keys and are confident about the same.\n",
      "     If yes, move to the next Thought. If no ask question on the keys whose values you are unsure of. \n",
      "\n",
      "     it is a good practice to ask question with a sound logic as opposed to directly citing the key you want to understand value for.####\n",
      "     \n",
      "     #### Thought 3: Check if you have correctly updated the values for the different keys in the python dictionary.\n",
      "     If you are not confident about any of the values, ask clarifying question.####\n",
      "     \n",
      "     Follow the above chain of thoughts and only updated python dictionary. \n",
      "\n",
      "     \n",
      "     \n",
      "     #### Here is sample conversation between user and assistent:\n",
      "     User: \"Hi, I am an editor\"\n",
      "     Assistant: \"Great! as an editor, you likely require a laptop that can handle demanding tasks. Hence, the laptop should have high multitasking capability. \"\n",
      "     User: \"I primarily work with after effects.\"\n",
      "     Assistant: Thank you for providing that information. Working with after effects involves working with graphics, animations and rendering which will require High GPU \n",
      "     User: \"Yes, sometime I work with a 4k video as well\"\n",
      "     Assitant: \"Thank you for providing that information. Processing 4k videos will require a good processor and high GPU. I think we have already determind that\"\n",
      "     User: \"Yes, sometime I travel but do not carry my laptop.\"\"\n",
      "     Assistant: \"Could you kindly let me know your budget for the laptop? This will help me to find options that fit your budget.\"\"\n",
      "     User: \"My max budget is 1.5 lakhs inr\"\n",
      "     Assistant: \"{'GPU intensity': 'high', 'Display quality': 'high', 'Portability': 'low', 'Multitasking': 'high', 'Processing speed': 'high'}\"\n",
      "     ####\n",
      "     Start with a short welcome message and encourage the user to share their requirements.\n",
      "    \n"
     ]
    }
   ],
   "source": [
    "system_msg = check_conversation[0]['content']\n",
    "print(system_msg)"
   ]
  },
  {
   "cell_type": "code",
   "execution_count": null,
   "id": "f3b47594-cba0-472b-9dc3-07fee90fed06",
   "metadata": {},
   "outputs": [],
   "source": []
  },
  {
   "cell_type": "markdown",
   "id": "365c1542-7dbb-41c0-a37c-5ec8b06c197b",
   "metadata": {},
   "source": [
    "### Get chat completions"
   ]
  },
  {
   "cell_type": "code",
   "execution_count": 9,
   "id": "0279d991-7fed-40c7-a023-9fba1a02d323",
   "metadata": {
    "tags": []
   },
   "outputs": [],
   "source": [
    "def get_chat_completion(msg):\n",
    "    response = openai.chat.completions.create(\n",
    "        model=\"gpt-3.5-turbo\",\n",
    "        messages = msg,\n",
    "        temperature = 0,\n",
    "        max_tokens = 900    \n",
    "    )\n",
    "    return response.choices[0].message.content"
   ]
  },
  {
   "cell_type": "code",
   "execution_count": 10,
   "id": "ec21c83f-2227-400a-afa9-a269a977c811",
   "metadata": {
    "tags": []
   },
   "outputs": [
    {
     "name": "stdout",
     "output_type": "stream",
     "text": [
      "Hello! I'm here to help you find the best laptop that suits your needs. Please share your requirements with me so that I can assist you effectively.\n"
     ]
    }
   ],
   "source": [
    "check_introduction = get_chat_completion(check_conversation)\n",
    "print(check_introduction)"
   ]
  },
  {
   "cell_type": "code",
   "execution_count": null,
   "id": "cb974043-57bd-4861-a375-9822a4b70795",
   "metadata": {},
   "outputs": [],
   "source": []
  },
  {
   "cell_type": "code",
   "execution_count": null,
   "id": "b8b0ee12-af85-4daa-bb91-776d727c49a8",
   "metadata": {
    "tags": []
   },
   "outputs": [],
   "source": [
    "user_input = \"Hi, I am Abhijit. I need a laptop for coding and gaming etc..\""
   ]
  },
  {
   "cell_type": "code",
   "execution_count": 12,
   "id": "f447bd9a-6ce7-4b10-bc36-ca0af4c88e8d",
   "metadata": {
    "tags": []
   },
   "outputs": [],
   "source": [
    "check_conversation.append({\"role\":\"user\", \"content\":user_input})"
   ]
  },
  {
   "cell_type": "code",
   "execution_count": 13,
   "id": "32982a35-7b70-49d0-91ac-650470487101",
   "metadata": {
    "tags": []
   },
   "outputs": [
    {
     "name": "stdout",
     "output_type": "stream",
     "text": [
      "Great! It seems like you have a variety of requirements including coding, gaming, watching movies, and listening to music. \n",
      "Based on your diverse needs, I would say that you would need a laptop with high multitasking capability. Do you agree with this assessment?\n"
     ]
    }
   ],
   "source": [
    "check_assistent_response = get_chat_completion(check_conversation)\n",
    "print(check_assistent_response)"
   ]
  },
  {
   "cell_type": "code",
   "execution_count": 14,
   "id": "119ed67f-2f71-479e-80f5-4eaa1267624d",
   "metadata": {
    "tags": []
   },
   "outputs": [],
   "source": [
    "user_input1 = \"budget around 120000 INR\""
   ]
  },
  {
   "cell_type": "code",
   "execution_count": 15,
   "id": "e89ad613-84e5-4a54-bddf-d4fef7f4f6fc",
   "metadata": {
    "tags": []
   },
   "outputs": [],
   "source": [
    "check_conversation.append({\"role\":\"user\", \"content\":user_input1})"
   ]
  },
  {
   "cell_type": "code",
   "execution_count": 16,
   "id": "5009496f-ce14-4421-9eed-97662880cc52",
   "metadata": {
    "tags": []
   },
   "outputs": [
    {
     "name": "stdout",
     "output_type": "stream",
     "text": [
      "Great! As a user who needs a laptop for coding, gaming, watching movies, and listening to music, it seems like you require a laptop with a balance of performance and entertainment features.\n",
      "\n",
      "Based on your requirements, I would suggest the following profile for the laptop:\n",
      "- GPU intensity: high\n",
      "- Display quality: high\n",
      "- Portability: medium\n",
      "- Multitasking: high\n",
      "- Processing speed: high\n",
      "\n",
      "Do you agree with this profile for the laptop?\n"
     ]
    }
   ],
   "source": [
    "check_assistent_response1 = get_chat_completion(check_conversation)\n",
    "print(check_assistent_response1)"
   ]
  },
  {
   "cell_type": "code",
   "execution_count": null,
   "id": "7c56e1d7-ab85-465e-94c7-b88bb479277f",
   "metadata": {},
   "outputs": [],
   "source": []
  },
  {
   "cell_type": "markdown",
   "id": "df39634f-2657-428c-9e9a-8caf39e88b81",
   "metadata": {},
   "source": [
    "## Step - 2: Moderation check"
   ]
  },
  {
   "cell_type": "code",
   "execution_count": 17,
   "id": "46732991-ba1a-4efa-88bf-54ced66f92b8",
   "metadata": {
    "tags": []
   },
   "outputs": [],
   "source": [
    "def moderation_check(msg):\n",
    "    response = openai.moderations.create(input=msg)\n",
    "    output =  response.results[0].flagged\n",
    "    if output == True:\n",
    "        return \"Flagged\"\n",
    "    else:\n",
    "        return \"Not flagged\""
   ]
  },
  {
   "cell_type": "code",
   "execution_count": 18,
   "id": "c857318b-4994-4086-a196-7a00f0ca396d",
   "metadata": {
    "tags": []
   },
   "outputs": [
    {
     "name": "stdout",
     "output_type": "stream",
     "text": [
      "Flagged\n"
     ]
    }
   ],
   "source": [
    "moderation_res = moderation_check(\"I will kill you.\")\n",
    "print(moderation_res)"
   ]
  },
  {
   "cell_type": "code",
   "execution_count": 19,
   "id": "8d57469a-b9b2-4eb8-b196-5c9e5bac8583",
   "metadata": {
    "tags": []
   },
   "outputs": [
    {
     "name": "stdout",
     "output_type": "stream",
     "text": [
      "Not flagged\n"
     ]
    }
   ],
   "source": [
    "moderation_res = moderation_check(\"I will hack NASA.\")\n",
    "print(moderation_res)"
   ]
  },
  {
   "cell_type": "code",
   "execution_count": 20,
   "id": "c4520e5c-171e-413b-b7b3-75d5a206b97f",
   "metadata": {
    "tags": []
   },
   "outputs": [
    {
     "name": "stdout",
     "output_type": "stream",
     "text": [
      "Not flagged\n"
     ]
    }
   ],
   "source": [
    "moderation_res = moderation_check(check_assistent_response1)\n",
    "print(moderation_res)"
   ]
  },
  {
   "cell_type": "code",
   "execution_count": null,
   "id": "c3acd2fb-976d-4c73-8e57-f74cbe6064d4",
   "metadata": {},
   "outputs": [],
   "source": []
  },
  {
   "cell_type": "markdown",
   "id": "87ad56ab-3346-4ce5-93ce-02e4af0b6cad",
   "metadata": {},
   "source": [
    "## Step-3: Intent confirmation "
   ]
  },
  {
   "cell_type": "code",
   "execution_count": 21,
   "id": "e4df2cbd-cf81-4643-a482-2dfcbbb02a96",
   "metadata": {
    "tags": []
   },
   "outputs": [],
   "source": [
    "def intent_confirmation_layer(response_assistant):\n",
    "    delimiter = \"####\"\n",
    "    prompt =f\"\"\"\n",
    "    You are a senior evaluator who has an eye for detail.\n",
    "    You are provided an input. you need to evaluate if the input has the following keys: 'GPU intensity', 'Display quality', 'portability', 'Multitasking', 'Processing speed'.\n",
    "    Next you need to evaluate if the keys have the values filled correctly.\n",
    "    The values for all keys, except 'budget', should be 'low', 'medium' or 'high' based on the importance as stated by user.\n",
    "    Output a string 'Yes' if the input contains the dictionary with the correctly filled for all keys.\n",
    "    Otherwise out the string 'No'\n",
    "    \n",
    "    Here is the input : {response_assistant}\n",
    "    Only output a one word string - Yes/no.\n",
    "    \"\"\"\n",
    "    \n",
    "    \n",
    "    response = openai.completions.create(\n",
    "                        model=\"gpt-3.5-turbo-instruct\",\n",
    "                        prompt = prompt,\n",
    "                        temperature = 0   \n",
    "    )\n",
    "    return response.choices[0].text"
   ]
  },
  {
   "cell_type": "code",
   "execution_count": 22,
   "id": "87a5561a-61e2-496b-9868-54e448e876df",
   "metadata": {
    "tags": []
   },
   "outputs": [],
   "source": [
    "debug_response_assistant_1 = f\"\"\"\n",
    "Great, thank you for clarifying your requirements.\n",
    "Based on your inputs, here is the final profile for the laptop you are looking for:\n",
    "{{'GPU intensity':'high',\n",
    " 'Display quality':'high',\n",
    " 'Portability':'low',\n",
    " 'Multitasking':'low',\n",
    " 'Processing speed':'low'}}\n",
    "\"\"\""
   ]
  },
  {
   "cell_type": "code",
   "execution_count": 23,
   "id": "824d3c54-889c-41df-b134-1308fbe5aa5d",
   "metadata": {
    "tags": []
   },
   "outputs": [
    {
     "name": "stdout",
     "output_type": "stream",
     "text": [
      "\n",
      "Great, thank you for clarifying your requirements.\n",
      "Based on your inputs, here is the final profile for the laptop you are looking for:\n",
      "{'GPU intensity':'high',\n",
      " 'Display quality':'high',\n",
      " 'Portability':'low',\n",
      " 'Multitasking':'low',\n",
      " 'Processing speed':'low'}\n",
      "\n"
     ]
    }
   ],
   "source": [
    "print(debug_response_assistant_1)"
   ]
  },
  {
   "cell_type": "code",
   "execution_count": 24,
   "id": "101990a3-6201-4cf6-a1c8-9fd3ecd24424",
   "metadata": {
    "tags": []
   },
   "outputs": [
    {
     "name": "stdout",
     "output_type": "stream",
     "text": [
      "\n",
      "Yes\n"
     ]
    }
   ],
   "source": [
    "intent_confirm = intent_confirmation_layer(debug_response_assistant_1)\n",
    "print(intent_confirm)"
   ]
  },
  {
   "cell_type": "code",
   "execution_count": 25,
   "id": "df648d8a-415f-4fb8-832d-325dc066b71b",
   "metadata": {
    "tags": []
   },
   "outputs": [],
   "source": [
    "debug_response_assistant_2 = f\"\"\"\n",
    "{{'GPU intensity':'high',\n",
    " 'Display quality':'high',\n",
    " 'Portability':'low',\n",
    " 'Multitasking':'high',\n",
    " 'Processing speed':'high',\n",
    " 'Budget':'150000'\n",
    " \"\"\""
   ]
  },
  {
   "cell_type": "code",
   "execution_count": 26,
   "id": "775efead-2dcc-4967-9a10-da91d9a1cd27",
   "metadata": {
    "tags": []
   },
   "outputs": [
    {
     "name": "stdout",
     "output_type": "stream",
     "text": [
      "\n",
      "Yes\n"
     ]
    }
   ],
   "source": [
    "intent_confirm = intent_confirmation_layer(debug_response_assistant_2)\n",
    "print(intent_confirm)"
   ]
  },
  {
   "cell_type": "code",
   "execution_count": null,
   "id": "804ed6c4-d7f6-4dba-a7d0-1419e4920ba6",
   "metadata": {},
   "outputs": [],
   "source": []
  },
  {
   "cell_type": "markdown",
   "id": "d1612bbf-49ed-47f8-a9e7-d84bbf05d7e2",
   "metadata": {},
   "source": [
    "## Step-3: Dictionary present"
   ]
  },
  {
   "cell_type": "code",
   "execution_count": 27,
   "id": "d4609cf1-fc2a-400e-b417-5e16518ee819",
   "metadata": {
    "tags": []
   },
   "outputs": [],
   "source": [
    "def dictionary_present(message):\n",
    "    delimiter = \"####\"\n",
    "    user_req = {'GPU intensity': 'high','Display quality': 'high','Portability': 'medium','Multitasking': 'high','Processing speed': 'high','Budget': '200000 INR'}\n",
    "    prompt = f\"\"\"\n",
    "            You are a python expert. You are provided an input.\n",
    "            You have to check if there is a python dictionary present in the string.\n",
    "            It will have the following format {user_req}.\n",
    "            Your task is to just extract and return only the python dictionary from the input.\n",
    "            The output should match the format as {user_req}.\n",
    "            The output should contain the exact keys and values as present in the input.\n",
    "\n",
    "\n",
    "            Here are some sample input output pairs for better understanding:\n",
    "            {delimiter}\n",
    "            input: - GPU intensity: low - Display quality: high - Portability: low - Multitasking: high - Processing speed: medium - Budget: 50,000 INR\n",
    "            output: {{'GPU intensity': 'low', 'Display quality': 'high', 'Portability': 'low', 'Multitasking': 'high', 'Processing speed': 'medium', 'Budget': '50000'}}\n",
    "\n",
    "\n",
    "            input: {{'GPU intensity':     'low', 'Display quality':     'high', 'Portability':    'low', 'Multitasking': 'high', 'Processing speed': 'medium', 'Budget': '90,000'}}\n",
    "            output: {{'GPU intensity': 'low', 'Display quality': 'high', 'Portability': 'low', 'Multitasking': 'high', 'Processing speed': 'medium', 'Budget': '90000'}}\n",
    "\n",
    "\n",
    "            input: Here is your user profile 'GPU intensity': 'high','Display quality': 'high','Portability': 'medium','Multitasking': 'low','Processing speed': 'high','Budget': '200000 INR'\n",
    "            output: {{'GPU intensity': 'high','Display quality': 'high','Portability': 'medium','Multitasking': 'high','Processing speed': 'low','Budget': '200000'}}\n",
    "            {delimiter}\n",
    "\n",
    "\n",
    "            Here is the input {message}\n",
    "            \"\"\"\n",
    "    \n",
    "    \n",
    "    response = openai.completions.create(\n",
    "                        model = \"gpt-3.5-turbo-instruct\",\n",
    "                        prompt = prompt,\n",
    "                        temperature = 0,\n",
    "                        max_tokens = 900\n",
    "    )\n",
    "    return response.choices[0].text"
   ]
  },
  {
   "cell_type": "code",
   "execution_count": 28,
   "id": "a3806bb4-9786-4637-b337-8dd31f98d7ba",
   "metadata": {
    "tags": []
   },
   "outputs": [],
   "source": [
    "debug_response_assistant_3 = \"\"\"\n",
    "{'GPU intensity':'high',\n",
    " 'Display quality':'high',\n",
    " 'Portability':'low',\n",
    " 'Multitasking':'low',\n",
    " 'Processing speed':'low',\n",
    " 'Budget':'50000'}\n",
    "\"\"\""
   ]
  },
  {
   "cell_type": "code",
   "execution_count": 29,
   "id": "0992da6f-8d6e-48a8-8f47-a6ac062bf41d",
   "metadata": {
    "tags": []
   },
   "outputs": [
    {
     "name": "stdout",
     "output_type": "stream",
     "text": [
      "\n",
      "{'GPU intensity': 'high', 'Display quality': 'high', 'Portability': 'low', 'Multitasking': 'low', 'Processing speed': 'low', 'Budget': '50000'}\n"
     ]
    }
   ],
   "source": [
    "response_dictionary = dictionary_present(debug_response_assistant_3)\n",
    "print(response_dictionary)"
   ]
  },
  {
   "cell_type": "code",
   "execution_count": 30,
   "id": "512e2ae5-5f89-447f-b0d7-63ae8a1bb773",
   "metadata": {
    "tags": []
   },
   "outputs": [],
   "source": [
    "debug_response_assistant_4 = f\"\"\"Thank you for providing your budget.\n",
    "Based on your budget of 50,000 INR, I will consider this while recommending suitable laptop options for you.\n",
    "Here is the final recommendation for your laptop:\n",
    "- GPU intensity: high\n",
    "- Display quality: medium\n",
    "- Portability: low\n",
    "- Multitasking: high\n",
    "- Processing speed: high\n",
    "- Budget: 150,000 INR\n",
    "\n",
    "Please note that these specifications are based on your requirements for surfing and a decent display within your budget.\n",
    "Let me know if there's anything else I can assist you with!\"\"\""
   ]
  },
  {
   "cell_type": "code",
   "execution_count": 31,
   "id": "8b9778a8-145c-4382-9d0e-bcda3cd2286f",
   "metadata": {
    "tags": []
   },
   "outputs": [
    {
     "name": "stdout",
     "output_type": "stream",
     "text": [
      "\n",
      "{'GPU intensity': 'high', 'Display quality': 'medium', 'Portability': 'low', 'Multitasking': 'high', 'Processing speed': 'high', 'Budget': '150000'}\n"
     ]
    }
   ],
   "source": [
    "response_dictionary = dictionary_present(debug_response_assistant_4)\n",
    "print(response_dictionary)"
   ]
  },
  {
   "cell_type": "code",
   "execution_count": null,
   "id": "e736ca8d-dc9e-426f-8a09-b915e2f2bf85",
   "metadata": {},
   "outputs": [],
   "source": []
  },
  {
   "cell_type": "code",
   "execution_count": 32,
   "id": "c52bdda5-b865-4cc8-aafc-13cecfe940d3",
   "metadata": {
    "collapsed": true,
    "jupyter": {
     "outputs_hidden": true
    },
    "tags": []
   },
   "outputs": [
    {
     "name": "stdout",
     "output_type": "stream",
     "text": [
      "Assitent- Hello! I'm here to help you find the best laptop that suits your needs. Please share your requirements with me so that I can assist you effectively.\n",
      "User- I am Abhijit, I want to buy a laptop for coding, seeing movies, listening to music etc.\n",
      "Assitent- Great! It seems like you have a variety of uses for the laptop including coding, watching movies, and listening to music. \n",
      "Based on your usage, I would say that you would need a laptop with a good display quality for watching movies, and a decent processing speed for coding. \n",
      "Do you have a specific budget in mind for the laptop?\n",
      "User- Budget around 150000 INR\n",
      "Assistent-Great! Thank you for providing your budget. \n",
      "Based on your usage for coding, watching movies, and listening to music, I would recommend the following values for the laptop features:\n",
      "- GPU intensity: medium\n",
      "- Display quality: high\n",
      "- Portability: medium\n",
      "- Multitasking: medium\n",
      "- Processing speed: high\n",
      "\n",
      "Do you agree with these recommendations?\n",
      "User- \n",
      "{'GPU intensity':'high',\n",
      " 'Display quality':'high',\n",
      " 'Portability':'low',\n",
      " 'Multitasking':'high',\n",
      " 'Processing speed':'high',\n",
      " 'Budget':'150000'\n",
      " \n",
      "Assistent- \n",
      "Yes\n",
      "User- \n",
      "{'GPU intensity':'high',\n",
      " 'Display quality':'high',\n",
      " 'Portability':'low',\n",
      " 'Multitasking':'high',\n",
      " 'Processing speed':'high',\n",
      " 'Budget':'150000'\n",
      " \n",
      "Assistent- \n",
      "{'GPU intensity': 'high', 'Display quality': 'high', 'Portability': 'low', 'Multitasking': 'high', 'Processing speed': 'high', 'Budget': '150000'}\n"
     ]
    }
   ],
   "source": [
    "debug_conversation = initialize_conversation()\n",
    "debug_res = get_chat_completion(debug_conversation)\n",
    "print(\"Assitent- \"+debug_res)\n",
    "user_input = \"I am Abhijit, I want to buy a laptop for coding, seeing movies, listening to music etc.\"\n",
    "print(\"User- \"+user_input)\n",
    "debug_moderation_check = moderation_check(user_input)\n",
    "debug_conversation.append({\"role\":\"user\", \"content\":user_input})\n",
    "debug_res1 = get_chat_completion(debug_conversation)\n",
    "print(\"Assitent- \"+debug_res1)\n",
    "debug_moderation_check = moderation_check(debug_res1)\n",
    "debug_conversation.append({\"role\":\"system\", \"content\":debug_res1})\n",
    "user_input1 = \"Budget around 150000 INR\"\n",
    "print(\"User- \"+user_input1)\n",
    "debug_conversation.append({\"role\":\"user\", \"content\":user_input1})\n",
    "debug_res2 = get_chat_completion(debug_conversation)\n",
    "print(\"Assistent-\"+debug_res2)\n",
    "print(\"User- \"+debug_response_assistant_2)\n",
    "debug_confirmation = intent_confirmation_layer(debug_response_assistant_2)\n",
    "print(\"Assistent- \"+debug_confirmation)\n",
    "print(\"User- \"+debug_response_assistant_2)\n",
    "response_dictionary = dictionary_present(debug_response_assistant_2)\n",
    "print(\"Assistent- \"+response_dictionary)"
   ]
  },
  {
   "cell_type": "code",
   "execution_count": null,
   "id": "a3ec99c1-c62c-4c21-b7d0-b4c4d86b7890",
   "metadata": {},
   "outputs": [],
   "source": []
  },
  {
   "cell_type": "markdown",
   "id": "fd1e342f-a462-45ff-b911-d08ec1ecf07e",
   "metadata": {},
   "source": [
    "## Step-4: Product map layer"
   ]
  },
  {
   "cell_type": "code",
   "execution_count": 33,
   "id": "477bedc0-b7b9-4e24-b282-6fd7af03009b",
   "metadata": {
    "tags": []
   },
   "outputs": [],
   "source": [
    "def product_map_layer(laptop_description):\n",
    "    delimiter = \"#####\"\n",
    "    lap_spec = {\n",
    "      \"GPU intensity\":\"(Type of the Graphics Processor)\",\n",
    "      \"Display quality\":\"(Screen Resolution)\",\n",
    "      \"Portability\":\"(Laptop Weight)\",\n",
    "      \"Multitasking\":\"(RAM)\",\n",
    "      \"Processing speed\":\"(CPU Manufacturer, Core)\",\n",
    "      \"Budget\":\"(Laptop price)\"\n",
    "    }\n",
    "\n",
    "\n",
    "    values = {'low','medium','high'}\n",
    "\n",
    "\n",
    "    prompt=f\"\"\"\n",
    "    You are a Laptop Specifications Classifier whose job is to extract the key features of laptops as per their requirements.\n",
    "    To analyze each laptop, perform the following steps:\n",
    "    Step 1: Extract the laptop's primary features from the description {laptop_description}\n",
    "    Step 2: Store the extracted features in {lap_spec} \\\n",
    "    Step 3: Classify each of the items in {lap_spec}into {values} based on the following rules: \\\n",
    "    {delimiter}\n",
    "    GPU Intensity: low: < for entry-level graphics like Intel UHD > , \\n\n",
    "    medium: < if Mid-range dedicated graphics like M1, AMD Radeon, Intel Iris > , \\n\n",
    "    high: < High-end dedicated graphics like Nvidia, M2 > , \\n\n",
    "\n",
    "\n",
    "    Display Quality: low: < if resolution below Full HD (e.g., 1366x768). > , \\n\n",
    "    medium: < if Full HD resolution (1920x1080) > , \\n\n",
    "    high: < if High-resolution display (e.g., 4K, Retina) with excellent color accuracy and features like HDR support. > \\n\n",
    "\n",
    "\n",
    "    Portability: low: < if laptop weight is greater than 2.51 kg > , \\n\n",
    "    medium: < if laptop weight is between 1.51 kg and 2.51 kg> , \\n\n",
    "    high: < if laptop weight is less than 1.51 kg> \\n\n",
    "\n",
    "\n",
    "    Multitasking: low: < If the value of the RAM is 8GB or lower> , \\n\n",
    "    medium: < if the value of the RAM is between 8GB & 16GB > , \\n\n",
    "    high: < if the value of the RAM is more than 32GB> \\n\n",
    "\n",
    "\n",
    "    Processing Speed: low: < if entry-level processors like Intel Core i3, AMD Ryzen 3 > , \\n\n",
    "    medium: < if Mid-range processors like Intel Core i5, AMD Ryzen 5, M1 > , \\n\n",
    "    high: < if High-performance processors like M2, Intel Core i7, AMD Ryzen 7 or higher > \\n\n",
    "    {delimiter}\n",
    "\n",
    "\n",
    "    {delimiter}\n",
    "    Here are some input output pairs for few-shot learning:\n",
    "    input1: \"The Dell Inspiron is a versatile laptop that combines powerful performance and affordability. It features an Intel Core i5 processor clocked at 2.4 GHz, ensuring basic multitasking and efficient computing. With 8GB of RAM and an SSD, it offers quick data access and ample storage capacity. The laptop sports a vibrant 15.6\" LCD display with a resolution of 1920x1080, delivering crisp visuals and immersive viewing experience. Weighing just 2.5 kg, it is decently portable. Additionally, it comes with an Intel UHD GPU for basic graphical performance and a backlit keyboard for enhanced typing convenience. With a one-year warranty and a battery life of up to 6 hours, the Dell Inspiron is a reliable companion for work or entertainment. \"\n",
    "    output1: {{'GPU intensity': 'medium','Display quality':'medium','Portability':'medium','Multitasking':'low','Processing speed':'medium'}}\n",
    "\n",
    "\n",
    "    input2: \"The Lenovo ThinkPad X1 Carbon is a sleek and lightweight laptop designed for professionals on the go. It is equipped with an Intel Core i7 processor running at 2.6 GHz, providing strong processing capabilities for productivity. With 16GB of RAM and an SSD, it offers decent multitasking performance along with ample storage capacity. The laptop features a 14\" IPS display with a resolution of 2560x1440, delivering sharp visuals and accurate colors. It comes with Intel UHD integrated graphics for basic graphical performance. Weighing just 1.13 kg, it is extremely lightweight and highly portable. The laptop features an IR camera for face unlock, providing convenient and secure login options. With a three-year warranty and an impressive battery life of up to 12 hours, the Lenovo ThinkPad X1 Carbon ensures reliability and long-lasting productivity. \"\n",
    "    output2: {{'GPU intensity': 'low', 'Display quality': 'high', 'Portability': 'high', 'Multitasking':'medium', 'Processing speed':'high'}}\n",
    "\n",
    "\n",
    "    input3: \"The Apple MacBook Pro is a high-end laptop that combines top-tier performance with a stunning display. It is equipped with an M2 processor running at 2.9 GHz, providing exceptional processing power for demanding tasks and content creation. With 32GB of RAM and an SSD, it offers seamless multitasking and fast storage access for large projects. The laptop features a 16\" Retina display with a resolution of 3072x1920, delivering breathtaking visuals and precise color reproduction. It comes with an Apple M2 dedicated graphics, ensuring smooth graphics performance for professional applications. Weighing 2.02 kg, it offers decent portability. The laptop features a True Tone display, adjusting the color temperature to match the ambient lighting for a more natural viewing experience. With a three-year warranty and a battery life of up to 10 hours, the Apple MacBook Pro offers reliability and endurance for professionals.\"\n",
    "    output3: {{'GPU intensity': 'high', 'Display quality': 'high', 'Portability': 'medium','Multitasking': 'high', 'Processing speed': 'high'}}\n",
    "    {delimiter}\n",
    "\n",
    "\n",
    "    Follow the above instructions step-by-step and output the dictionary {lap_spec} for the following laptop {laptop_description}.\n",
    "    \"\"\"\n",
    "\n",
    "    \n",
    "    response = openai.completions.create(\n",
    "                    model = 'gpt-3.5-turbo-instruct',\n",
    "                    prompt = prompt,\n",
    "                    temperature = 0,\n",
    "                    max_tokens = 900   \n",
    "    \n",
    "    )\n",
    "    return response.choices[0].text"
   ]
  },
  {
   "cell_type": "code",
   "execution_count": 34,
   "id": "6cb6e80b-0744-45f2-9a8a-82942feb087b",
   "metadata": {},
   "outputs": [],
   "source": [
    "laptop_description = f\"\"\"\n",
    "The Dell Inspiron is a versatile laptop that combines powerful performance and affordability.\n",
    "It features an Intel Core i5 processor clocked at 2.4 GHz, ensuring smooth multitasking and efficient computing.\n",
    "With 8GB of RAM and an SSD, it offers quick data access and ample storage capacity.\n",
    "The laptop sports a vibrant 15.6\" LCD display with a resolution of 1920x1080, delivering crisp visuals and immersive viewing experience.\n",
    "Weighing just 2.5 kg, it is highly portable, making it ideal for on-the-go usage.\n",
    "Additionally, it boasts an Intel UHD GPU for decent graphical performance and a backlit keyboard for enhanced typing convenience.\n",
    "With a one-year warranty and a battery life of up to 6 hours, the Dell Inspiron is a reliable companion for work or entertainment.\n",
    "All these features are packed at an affordable price of 35,000, making it an excellent choice for budget-conscious users.\n",
    "\"\"\""
   ]
  },
  {
   "cell_type": "code",
   "execution_count": 35,
   "id": "a9f2f07a-2dfc-4644-9175-480078d63fd8",
   "metadata": {},
   "outputs": [
    {
     "name": "stdout",
     "output_type": "stream",
     "text": [
      "\n",
      "{'GPU intensity': 'medium', 'Display quality': 'medium', 'Portability': 'medium', 'Multitasking': 'low', 'Processing speed': 'medium', 'Budget': '35,000'}\n"
     ]
    }
   ],
   "source": [
    "response_description = product_map_layer(laptop_description)\n",
    "print(response_description)"
   ]
  },
  {
   "cell_type": "code",
   "execution_count": 36,
   "id": "17fa8f47-3493-4306-aebd-16c0663dad57",
   "metadata": {
    "tags": []
   },
   "outputs": [
    {
     "data": {
      "text/plain": [
       "str"
      ]
     },
     "execution_count": 36,
     "metadata": {},
     "output_type": "execute_result"
    }
   ],
   "source": [
    "type(response_description)"
   ]
  },
  {
   "cell_type": "code",
   "execution_count": 37,
   "id": "6a2a5b4b-7a04-48a2-b484-4091c17439df",
   "metadata": {
    "tags": []
   },
   "outputs": [
    {
     "data": {
      "text/html": [
       "<div>\n",
       "<style scoped>\n",
       "    .dataframe tbody tr th:only-of-type {\n",
       "        vertical-align: middle;\n",
       "    }\n",
       "\n",
       "    .dataframe tbody tr th {\n",
       "        vertical-align: top;\n",
       "    }\n",
       "\n",
       "    .dataframe thead th {\n",
       "        text-align: right;\n",
       "    }\n",
       "</style>\n",
       "<table border=\"1\" class=\"dataframe\">\n",
       "  <thead>\n",
       "    <tr style=\"text-align: right;\">\n",
       "      <th></th>\n",
       "      <th>Brand</th>\n",
       "      <th>Model Name</th>\n",
       "      <th>Core</th>\n",
       "      <th>CPU Manufacturer</th>\n",
       "      <th>Clock Speed</th>\n",
       "      <th>RAM Size</th>\n",
       "      <th>Storage Type</th>\n",
       "      <th>Display Type</th>\n",
       "      <th>Display Size</th>\n",
       "      <th>Graphics Processor</th>\n",
       "      <th>Screen Resolution</th>\n",
       "      <th>OS</th>\n",
       "      <th>Laptop Weight</th>\n",
       "      <th>Special Features</th>\n",
       "      <th>Warranty</th>\n",
       "      <th>Average Battery Life</th>\n",
       "      <th>Price</th>\n",
       "      <th>Description</th>\n",
       "    </tr>\n",
       "  </thead>\n",
       "  <tbody>\n",
       "    <tr>\n",
       "      <th>0</th>\n",
       "      <td>Dell</td>\n",
       "      <td>Inspiron</td>\n",
       "      <td>i5</td>\n",
       "      <td>Intel</td>\n",
       "      <td>2.4 GHz</td>\n",
       "      <td>8GB</td>\n",
       "      <td>SSD</td>\n",
       "      <td>LCD</td>\n",
       "      <td>15.6\"</td>\n",
       "      <td>Intel UHD</td>\n",
       "      <td>1920x1080</td>\n",
       "      <td>Windows 10</td>\n",
       "      <td>2.5 kg</td>\n",
       "      <td>Backlit Keyboard</td>\n",
       "      <td>1 year</td>\n",
       "      <td>6 hours</td>\n",
       "      <td>35,000</td>\n",
       "      <td>The Dell Inspiron is a versatile laptop that c...</td>\n",
       "    </tr>\n",
       "  </tbody>\n",
       "</table>\n",
       "</div>"
      ],
      "text/plain": [
       "  Brand Model Name Core CPU Manufacturer Clock Speed RAM Size Storage Type  \\\n",
       "0  Dell   Inspiron   i5            Intel     2.4 GHz      8GB          SSD   \n",
       "\n",
       "  Display Type Display Size Graphics Processor Screen Resolution          OS  \\\n",
       "0          LCD        15.6\"          Intel UHD         1920x1080  Windows 10   \n",
       "\n",
       "  Laptop Weight  Special Features Warranty Average Battery Life   Price  \\\n",
       "0        2.5 kg  Backlit Keyboard   1 year              6 hours  35,000   \n",
       "\n",
       "                                         Description  \n",
       "0  The Dell Inspiron is a versatile laptop that c...  "
      ]
     },
     "execution_count": 37,
     "metadata": {},
     "output_type": "execute_result"
    }
   ],
   "source": [
    "df.head(1)"
   ]
  },
  {
   "cell_type": "code",
   "execution_count": 38,
   "id": "1f660fc4-dc24-425e-84d8-1eb4c82b331e",
   "metadata": {
    "tags": []
   },
   "outputs": [],
   "source": [
    "df['updated_description'] = df['Description'].apply(lambda x:product_map_layer(x))\n",
    "df.to_csv('updated_df.csv', index=False, header=True)"
   ]
  },
  {
   "cell_type": "code",
   "execution_count": 39,
   "id": "5bc13cfa-6b8e-49cc-a283-b48bba8c5602",
   "metadata": {
    "tags": []
   },
   "outputs": [
    {
     "data": {
      "text/html": [
       "<div>\n",
       "<style scoped>\n",
       "    .dataframe tbody tr th:only-of-type {\n",
       "        vertical-align: middle;\n",
       "    }\n",
       "\n",
       "    .dataframe tbody tr th {\n",
       "        vertical-align: top;\n",
       "    }\n",
       "\n",
       "    .dataframe thead th {\n",
       "        text-align: right;\n",
       "    }\n",
       "</style>\n",
       "<table border=\"1\" class=\"dataframe\">\n",
       "  <thead>\n",
       "    <tr style=\"text-align: right;\">\n",
       "      <th></th>\n",
       "      <th>Brand</th>\n",
       "      <th>Model Name</th>\n",
       "      <th>Core</th>\n",
       "      <th>CPU Manufacturer</th>\n",
       "      <th>Clock Speed</th>\n",
       "      <th>RAM Size</th>\n",
       "      <th>Storage Type</th>\n",
       "      <th>Display Type</th>\n",
       "      <th>Display Size</th>\n",
       "      <th>Graphics Processor</th>\n",
       "      <th>Screen Resolution</th>\n",
       "      <th>OS</th>\n",
       "      <th>Laptop Weight</th>\n",
       "      <th>Special Features</th>\n",
       "      <th>Warranty</th>\n",
       "      <th>Average Battery Life</th>\n",
       "      <th>Price</th>\n",
       "      <th>Description</th>\n",
       "      <th>updated_description</th>\n",
       "    </tr>\n",
       "  </thead>\n",
       "  <tbody>\n",
       "    <tr>\n",
       "      <th>0</th>\n",
       "      <td>Dell</td>\n",
       "      <td>Inspiron</td>\n",
       "      <td>i5</td>\n",
       "      <td>Intel</td>\n",
       "      <td>2.4 GHz</td>\n",
       "      <td>8GB</td>\n",
       "      <td>SSD</td>\n",
       "      <td>LCD</td>\n",
       "      <td>15.6\"</td>\n",
       "      <td>Intel UHD</td>\n",
       "      <td>1920x1080</td>\n",
       "      <td>Windows 10</td>\n",
       "      <td>2.5 kg</td>\n",
       "      <td>Backlit Keyboard</td>\n",
       "      <td>1 year</td>\n",
       "      <td>6 hours</td>\n",
       "      <td>35,000</td>\n",
       "      <td>The Dell Inspiron is a versatile laptop that c...</td>\n",
       "      <td>\\n{'GPU intensity': 'low', 'Display quality': ...</td>\n",
       "    </tr>\n",
       "    <tr>\n",
       "      <th>1</th>\n",
       "      <td>MSI</td>\n",
       "      <td>GL65</td>\n",
       "      <td>i7</td>\n",
       "      <td>Intel</td>\n",
       "      <td>2.6 GHz</td>\n",
       "      <td>16GB</td>\n",
       "      <td>HDD+SSD</td>\n",
       "      <td>IPS</td>\n",
       "      <td>15.6\"</td>\n",
       "      <td>NVIDIA GTX</td>\n",
       "      <td>1920x1080</td>\n",
       "      <td>Windows 10</td>\n",
       "      <td>2.3 kg</td>\n",
       "      <td>RGB Keyboard</td>\n",
       "      <td>2 years</td>\n",
       "      <td>4 hours</td>\n",
       "      <td>55,000</td>\n",
       "      <td>The MSI GL65 is a high-performance laptop desi...</td>\n",
       "      <td>\\n    {'GPU intensity': 'high', 'Display quali...</td>\n",
       "    </tr>\n",
       "  </tbody>\n",
       "</table>\n",
       "</div>"
      ],
      "text/plain": [
       "  Brand Model Name Core CPU Manufacturer Clock Speed RAM Size Storage Type  \\\n",
       "0  Dell   Inspiron   i5            Intel     2.4 GHz      8GB          SSD   \n",
       "1   MSI       GL65   i7            Intel     2.6 GHz     16GB      HDD+SSD   \n",
       "\n",
       "  Display Type Display Size Graphics Processor Screen Resolution          OS  \\\n",
       "0          LCD        15.6\"          Intel UHD         1920x1080  Windows 10   \n",
       "1          IPS        15.6\"         NVIDIA GTX         1920x1080  Windows 10   \n",
       "\n",
       "  Laptop Weight  Special Features Warranty Average Battery Life   Price  \\\n",
       "0        2.5 kg  Backlit Keyboard   1 year              6 hours  35,000   \n",
       "1        2.3 kg      RGB Keyboard  2 years              4 hours  55,000   \n",
       "\n",
       "                                         Description  \\\n",
       "0  The Dell Inspiron is a versatile laptop that c...   \n",
       "1  The MSI GL65 is a high-performance laptop desi...   \n",
       "\n",
       "                                 updated_description  \n",
       "0  \\n{'GPU intensity': 'low', 'Display quality': ...  \n",
       "1  \\n    {'GPU intensity': 'high', 'Display quali...  "
      ]
     },
     "execution_count": 39,
     "metadata": {},
     "output_type": "execute_result"
    }
   ],
   "source": [
    "new_df = pd.read_csv('updated_df.csv')\n",
    "new_df.head(2)"
   ]
  },
  {
   "cell_type": "code",
   "execution_count": 40,
   "id": "89a0d6ee-911a-4448-80b3-83e671d39085",
   "metadata": {
    "tags": []
   },
   "outputs": [
    {
     "data": {
      "text/plain": [
       "\"\\n{'GPU intensity': 'low', 'Display quality': 'medium', 'Portability': 'medium', 'Multitasking': 'medium', 'Processing speed': 'medium', 'Budget': '35,000'}\""
      ]
     },
     "execution_count": 40,
     "metadata": {},
     "output_type": "execute_result"
    }
   ],
   "source": [
    "new_df['updated_description'][0]"
   ]
  },
  {
   "cell_type": "code",
   "execution_count": null,
   "id": "6ef74b74-10f2-4cc7-b430-5ac59548f6a0",
   "metadata": {},
   "outputs": [],
   "source": []
  },
  {
   "cell_type": "markdown",
   "id": "dfd0c88a-c590-4599-873a-881ec5b05bd2",
   "metadata": {},
   "source": [
    "## Step-5 :Extract dictionary from string"
   ]
  },
  {
   "cell_type": "code",
   "execution_count": 41,
   "id": "bdd6a487-14ea-45c4-96b4-932afbb67607",
   "metadata": {
    "tags": []
   },
   "outputs": [],
   "source": [
    "def extract_dictionary_from_string(string):\n",
    "    regex_pattern = r\"\\{[^{}]+\\}\"\n",
    "    \n",
    "    dictionary_matches = re.findall(regex_pattern, string)\n",
    "    if dictionary_matches:\n",
    "        dictionary_string = dictionary_matches[0].lower()\n",
    "        \n",
    "    dictionary = ast.literal_eval(dictionary_string)\n",
    "    return dictionary"
   ]
  },
  {
   "cell_type": "code",
   "execution_count": 42,
   "id": "fd2abb15-1e02-40d2-bd1e-1a94b9c48250",
   "metadata": {
    "tags": []
   },
   "outputs": [
    {
     "name": "stdout",
     "output_type": "stream",
     "text": [
      "{'gpu intensity': 'medium', 'display quality': 'medium', 'portability': 'medium', 'multitasking': 'low', 'processing speed': 'medium', 'budget': '35,000'}\n"
     ]
    }
   ],
   "source": [
    "dictionary_desc = extract_dictionary_from_string(response_description)\n",
    "print(dictionary_desc)"
   ]
  },
  {
   "cell_type": "code",
   "execution_count": 43,
   "id": "353b6827-5046-4213-9f56-abc0be1ad918",
   "metadata": {
    "tags": []
   },
   "outputs": [
    {
     "data": {
      "text/plain": [
       "dict"
      ]
     },
     "execution_count": 43,
     "metadata": {},
     "output_type": "execute_result"
    }
   ],
   "source": [
    "type(dictionary_desc)"
   ]
  },
  {
   "cell_type": "code",
   "execution_count": null,
   "id": "836df7ca-b1e4-4205-90d8-f18ac93ffae7",
   "metadata": {},
   "outputs": [],
   "source": []
  },
  {
   "cell_type": "markdown",
   "id": "a41f71db-d2f7-4bb6-a8f0-91c11d6b8417",
   "metadata": {},
   "source": [
    "## Step-6: Compare laptop with user"
   ]
  },
  {
   "cell_type": "code",
   "execution_count": 44,
   "id": "c00c6582-6bfa-4186-bd94-7191785eff85",
   "metadata": {
    "tags": []
   },
   "outputs": [],
   "source": [
    "def compare_laptop_with_user(user_req_string):\n",
    "    \n",
    "#     laptop_df = pd.read_csv('updated_df.csv')\n",
    "#     user_string_dict = extract_dictionary_from_string(user_string)\n",
    "#     budget = int(user_string_dict.get('budget', '0').replace(',', '').split()[0])\n",
    "    \n",
    "    \n",
    "#     filtered_laptop = laptop_df.copy()\n",
    "#     filtered_laptop['Price'] = filtered_laptop['Price'].str.replace(',', '').astype(int)\n",
    "#     filtered_laptop = filtered_laptop[filtered_laptop['Price'] <= budget].copy()\n",
    "    \n",
    "#     #print(filtered_laptop)\n",
    "#     #return filtered_laptop\n",
    "#     mappings = {\n",
    "#         'low': 0,\n",
    "#         'medium': 1,\n",
    "#         'high': 2\n",
    "#     }\n",
    "    \n",
    "#     filtered_laptop['Score'] = 0\n",
    "#     for index, rows in filtered_laptop.iterrows():\n",
    "#         updated_description = rows['updated_description']\n",
    "#         laptop_values = extract_dictionary_from_string(updated_description)\n",
    "#         score=0\n",
    "        \n",
    "#         for key, user_val in user_string_dict:\n",
    "#             if key.lower() == 'budget':\n",
    "#                 continue\n",
    "#             laptop_value = laptop_values.get(key, None)\n",
    "            \n",
    "#             laptop_mapping = mappings.get(laptop_value.lower(), -1)\n",
    "#             user_mapping = mappings.get(user_val.lower(), -1)\n",
    "            \n",
    "#             if user_mapping >= laptop_mapping:\n",
    "#                 score+=1\n",
    "            \n",
    "#         filtered_laptop.loc[index, 'Score'] = score\n",
    "        \n",
    "#     top_laptops = filtered_laptop.drop('updated_description', axis=1)\n",
    "#     top_laptops = top_laptops.sort_values('Score', ascending=False).head(3)\n",
    "    \n",
    "#     return top_laptops.to_json(orient='records')\n",
    "\n",
    "    laptop_df= pd.read_csv('updated_df.csv')\n",
    "    user_requirements = extract_dictionary_from_string(user_req_string)\n",
    "    budget = int(user_requirements.get('budget', '0').replace(',', '').split()[0])\n",
    "    #This line retrieves the value associated with the key 'budget' from the user_requirements dictionary.\n",
    "    #If the key is not found, the default value '0' is used.\n",
    "    #The value is then processed to remove commas, split it into a list of strings, and take the first element of the list.\n",
    "    #Finally, the resulting value is converted to an integer and assigned to the variable budget.\n",
    "\n",
    "\n",
    "\n",
    "\n",
    "    filtered_laptops = laptop_df.copy()\n",
    "    filtered_laptops['Price'] = filtered_laptops['Price'].str.replace(',','').astype(int)\n",
    "    filtered_laptops = filtered_laptops[filtered_laptops['Price'] <= budget].copy()\n",
    "    #These lines create a copy of the laptop_df DataFrame and assign it to filtered_laptops.\n",
    "    #They then modify the 'Price' column in filtered_laptops by removing commas and converting the values to integers.\n",
    "    #Finally, they filter filtered_laptops to include only rows where the 'Price' is less than or equal to the budget.\n",
    "\n",
    "\n",
    "    mappings = {\n",
    "        'low': 0,\n",
    "        'medium': 1,\n",
    "        'high': 2\n",
    "    }\n",
    "    # Create 'Score' column in the DataFrame and initialize to 0\n",
    "    filtered_laptops['Score'] = 0\n",
    "    for index, row in filtered_laptops.iterrows():\n",
    "        user_product_match_str = row['updated_description']\n",
    "        laptop_values = extract_dictionary_from_string(user_product_match_str)\n",
    "        score = 0\n",
    "\n",
    "\n",
    "        for key, user_value in user_requirements.items():\n",
    "            if key.lower() == 'budget':\n",
    "                continue  # Skip budget comparison\n",
    "            laptop_value = laptop_values.get(key, None)\n",
    "            laptop_mapping = mappings.get(laptop_value.lower(), -1)\n",
    "            user_mapping = mappings.get(user_value.lower(), -1)\n",
    "            if laptop_mapping >= user_mapping:\n",
    "                ### If the laptop value is greater than or equal to the user value the score is incremented by 1\n",
    "                score += 1\n",
    "\n",
    "\n",
    "        filtered_laptops.loc[index, 'Score'] = score\n",
    "\n",
    "\n",
    "    # Sort the laptops by score in descending order and return the top 5 products\n",
    "    top_laptops = filtered_laptops.drop('updated_description', axis=1)\n",
    "    top_laptops = top_laptops.sort_values('Score', ascending=False).head(3)\n",
    "\n",
    "\n",
    "    return top_laptops.to_json(orient='records')\n",
    "    "
   ]
  },
  {
   "cell_type": "code",
   "execution_count": 45,
   "id": "f81b6018-be39-441e-b03e-2922f2e34ed5",
   "metadata": {
    "tags": []
   },
   "outputs": [
    {
     "name": "stdout",
     "output_type": "stream",
     "text": [
      "[{\"Brand\":\"Dell\",\"Model Name\":\"Inspiron\",\"Core\":\"i5\",\"CPU Manufacturer\":\"Intel\",\"Clock Speed\":\"2.4 GHz\",\"RAM Size\":\"8GB\",\"Storage Type\":\"SSD\",\"Display Type\":\"LCD\",\"Display Size\":\"15.6\\\"\",\"Graphics Processor\":\"Intel UHD\",\"Screen Resolution\":\"1920x1080\",\"OS\":\"Windows 10\",\"Laptop Weight\":\"2.5 kg\",\"Special Features\":\"Backlit Keyboard\",\"Warranty\":\"1 year\",\"Average Battery Life\":\"6 hours\",\"Price\":35000,\"Description\":\"The Dell Inspiron is a versatile laptop that combines powerful performance and affordability. It features an Intel Core i5 processor clocked at 2.4 GHz, ensuring smooth multitasking and efficient computing. With 8GB of RAM and an SSD, it offers quick data access and ample storage capacity. The laptop sports a vibrant 15.6\\\" LCD display with a resolution of 1920x1080, delivering crisp visuals and immersive viewing experience. Weighing just 2.5 kg, it is highly portable, making it ideal for on-the-go usage. Additionally, it boasts an Intel UHD GPU for decent graphical performance and a backlit keyboard for enhanced typing convenience. With a one-year warranty and a battery life of up to 6 hours, the Dell Inspiron is a reliable companion for work or entertainment. All these features are packed at an affordable price of 35,000, making it an excellent choice for budget-conscious users.\",\"Score\":4},{\"Brand\":\"HP\",\"Model Name\":\"Pavilion\",\"Core\":\"i5\",\"CPU Manufacturer\":\"Intel\",\"Clock Speed\":\"2.3 GHz\",\"RAM Size\":\"12GB\",\"Storage Type\":\"HDD\",\"Display Type\":\"LCD\",\"Display Size\":\"15.6\\\"\",\"Graphics Processor\":\"Intel UHD\",\"Screen Resolution\":\"1366x768\",\"OS\":\"Windows 10\",\"Laptop Weight\":\"2.1 kg\",\"Special Features\":\"B&O Audio\",\"Warranty\":\"1 year\",\"Average Battery Life\":\"4 hours\",\"Price\":30000,\"Description\":\"The HP Pavilion is a budget-friendly laptop that offers reliable performance for everyday computing tasks. It features an Intel Core i5 processor running at 2.3 GHz, providing decent processing power for productivity and entertainment. With 12GB of RAM and an HDD, it offers a balance between memory capacity and storage space. The laptop sports a 15.6\\\" LCD display with a resolution of 1366x768, offering satisfactory visuals for everyday use. It comes with Intel UHD integrated graphics for basic graphical performance. Weighing 2.1 kg, it strikes a balance between portability and a larger display. The laptop features B&O audio for an enhanced audio experience during multimedia playback. With a one-year warranty and a battery life of up to 4 hours, the HP Pavilion ensures reliable performance for day-to-day tasks. Priced at 30,000, it provides affordability for budget-conscious users seeking\",\"Score\":3},{\"Brand\":\"Lenovo\",\"Model Name\":\"IdeaPad\",\"Core\":\"i3\",\"CPU Manufacturer\":\"Intel\",\"Clock Speed\":\"2.1 GHz\",\"RAM Size\":\"8GB\",\"Storage Type\":\"HDD\",\"Display Type\":\"TN\",\"Display Size\":\"15.6\\\"\",\"Graphics Processor\":\"Intel UHD\",\"Screen Resolution\":\"1366x768\",\"OS\":\"Windows 10\",\"Laptop Weight\":\"2.2 kg\",\"Special Features\":\"Dolby Audio\",\"Warranty\":\"1 year\",\"Average Battery Life\":\"5 hours\",\"Price\":25000,\"Description\":\"The Lenovo IdeaPad is a versatile laptop that balances performance and affordability. It features an Intel Core i3 processor running at 2.1 GHz, offering reliable computing power for everyday tasks. With 8GB of RAM and an HDD, it provides adequate memory and storage capacity. The laptop sports a 15.6\\\" TN display with a resolution of 1366x768, delivering decent visuals for multimedia consumption. It comes with an Intel UHD GPU for basic graphical performance. Weighing 2.2 kg, it is moderately portable. The laptop is equipped with Dolby Audio for immersive sound quality during media playback. With a one-year warranty and a battery life of up to 5 hours, the Lenovo IdeaPad ensures reliable performance. Priced at 25,000, it offers affordability for users on a budget.\",\"Score\":2}]\n"
     ]
    }
   ],
   "source": [
    "top_3_laptops = compare_laptop_with_user(response_description)\n",
    "print(top_3_laptops)"
   ]
  },
  {
   "cell_type": "code",
   "execution_count": 46,
   "id": "e33920e4-4c4b-428b-84b5-36f6841a26a8",
   "metadata": {
    "tags": []
   },
   "outputs": [
    {
     "data": {
      "text/plain": [
       "str"
      ]
     },
     "execution_count": 46,
     "metadata": {},
     "output_type": "execute_result"
    }
   ],
   "source": [
    "type(top_3_laptops)"
   ]
  },
  {
   "cell_type": "markdown",
   "id": "263703ec-f039-412d-9784-6d3fe1d85aa8",
   "metadata": {},
   "source": [
    "## Step-7 : Product validation layer"
   ]
  },
  {
   "cell_type": "code",
   "execution_count": 47,
   "id": "4b9bbc8d-09ee-42d8-9c57-ab9bc32cb6e9",
   "metadata": {
    "tags": []
   },
   "outputs": [],
   "source": [
    "def laptop_recommendation_layer(laptop_recommendation):    \n",
    "    data = json.loads(laptop_recommendation)\n",
    "    data1 = []\n",
    "    for i in range(len(data)):\n",
    "        if data[i]['Score'] > 2:\n",
    "            data1.append(data[i])\n",
    "\n",
    "    return data1    "
   ]
  },
  {
   "cell_type": "code",
   "execution_count": 48,
   "id": "30c5d692-e6dc-4e6e-a09c-1e9c9305fdf7",
   "metadata": {
    "tags": []
   },
   "outputs": [
    {
     "name": "stdout",
     "output_type": "stream",
     "text": [
      "[{'Brand': 'Dell', 'Model Name': 'Inspiron', 'Core': 'i5', 'CPU Manufacturer': 'Intel', 'Clock Speed': '2.4 GHz', 'RAM Size': '8GB', 'Storage Type': 'SSD', 'Display Type': 'LCD', 'Display Size': '15.6\"', 'Graphics Processor': 'Intel UHD', 'Screen Resolution': '1920x1080', 'OS': 'Windows 10', 'Laptop Weight': '2.5 kg', 'Special Features': 'Backlit Keyboard', 'Warranty': '1 year', 'Average Battery Life': '6 hours', 'Price': 35000, 'Description': 'The Dell Inspiron is a versatile laptop that combines powerful performance and affordability. It features an Intel Core i5 processor clocked at 2.4 GHz, ensuring smooth multitasking and efficient computing. With 8GB of RAM and an SSD, it offers quick data access and ample storage capacity. The laptop sports a vibrant 15.6\" LCD display with a resolution of 1920x1080, delivering crisp visuals and immersive viewing experience. Weighing just 2.5 kg, it is highly portable, making it ideal for on-the-go usage. Additionally, it boasts an Intel UHD GPU for decent graphical performance and a backlit keyboard for enhanced typing convenience. With a one-year warranty and a battery life of up to 6 hours, the Dell Inspiron is a reliable companion for work or entertainment. All these features are packed at an affordable price of 35,000, making it an excellent choice for budget-conscious users.', 'Score': 4}, {'Brand': 'HP', 'Model Name': 'Pavilion', 'Core': 'i5', 'CPU Manufacturer': 'Intel', 'Clock Speed': '2.3 GHz', 'RAM Size': '12GB', 'Storage Type': 'HDD', 'Display Type': 'LCD', 'Display Size': '15.6\"', 'Graphics Processor': 'Intel UHD', 'Screen Resolution': '1366x768', 'OS': 'Windows 10', 'Laptop Weight': '2.1 kg', 'Special Features': 'B&O Audio', 'Warranty': '1 year', 'Average Battery Life': '4 hours', 'Price': 30000, 'Description': 'The HP Pavilion is a budget-friendly laptop that offers reliable performance for everyday computing tasks. It features an Intel Core i5 processor running at 2.3 GHz, providing decent processing power for productivity and entertainment. With 12GB of RAM and an HDD, it offers a balance between memory capacity and storage space. The laptop sports a 15.6\" LCD display with a resolution of 1366x768, offering satisfactory visuals for everyday use. It comes with Intel UHD integrated graphics for basic graphical performance. Weighing 2.1 kg, it strikes a balance between portability and a larger display. The laptop features B&O audio for an enhanced audio experience during multimedia playback. With a one-year warranty and a battery life of up to 4 hours, the HP Pavilion ensures reliable performance for day-to-day tasks. Priced at 30,000, it provides affordability for budget-conscious users seeking', 'Score': 3}]\n"
     ]
    }
   ],
   "source": [
    "final_data = laptop_recommendation_layer(top_3_laptops)\n",
    "print(final_data)"
   ]
  },
  {
   "cell_type": "code",
   "execution_count": 49,
   "id": "5a089a99-836e-4fdb-af8c-c19c1e23131f",
   "metadata": {
    "tags": []
   },
   "outputs": [
    {
     "data": {
      "text/plain": [
       "list"
      ]
     },
     "execution_count": 49,
     "metadata": {},
     "output_type": "execute_result"
    }
   ],
   "source": [
    "type(final_data)"
   ]
  },
  {
   "cell_type": "markdown",
   "id": "27663c30-5455-48e8-b63c-03fa13abb871",
   "metadata": {},
   "source": [
    "## Product recommendation layer"
   ]
  },
  {
   "cell_type": "code",
   "execution_count": 50,
   "id": "b60c82fc-d702-43ce-b894-4e7a783bbf1a",
   "metadata": {
    "tags": []
   },
   "outputs": [],
   "source": [
    "def recommendation_validation(laptop_recommendation):\n",
    "    \"\"\"\n",
    "    Validate a list of laptop recommendations based on a score threshold.\n",
    "\n",
    "    Parameters:\n",
    "    - laptop_recommendation (str): JSON string containing a list of laptop recommendations,\n",
    "      each with a 'Score' key representing its rating.\n",
    "\n",
    "    Returns:\n",
    "    - list: A filtered list of laptop recommendations where each item has a 'Score' greater than 2.\n",
    "    \"\"\""
   ]
  },
  {
   "cell_type": "code",
   "execution_count": 51,
   "id": "62372ef3-a4dc-4a73-bd51-d81b9180746b",
   "metadata": {
    "tags": []
   },
   "outputs": [
    {
     "data": {
      "text/plain": [
       "None"
      ]
     },
     "metadata": {},
     "output_type": "display_data"
    },
    {
     "data": {
      "text/plain": [
       "'\\n'"
      ]
     },
     "metadata": {},
     "output_type": "display_data"
    }
   ],
   "source": [
    "validated_data = recommendation_validation(top_3_laptops)\n",
    "display(validated_data,'\\n')"
   ]
  },
  {
   "cell_type": "markdown",
   "id": "d07f988f-75a7-4204-ae3d-51fcda727508",
   "metadata": {},
   "source": [
    "## Step-8 : product recommendation layer"
   ]
  },
  {
   "cell_type": "code",
   "execution_count": 52,
   "id": "f23a6f49-7790-40bc-90d0-64d733212dad",
   "metadata": {},
   "outputs": [],
   "source": [
    "def initialize_conversation_reco(products):\n",
    "    \"\"\"\n",
    "    Initializes a conversation recommendation system for a laptop gadget expert.\n",
    "\n",
    "    Parameters:\n",
    "    - products (list): A list of products to be included in the user's profile.\n",
    "\n",
    "    Returns:\n",
    "    - conversation (list): A list containing initial system and user messages for the conversation.\n",
    "\n",
    "    Description:\n",
    "    This function sets up a conversation recommendation system for an intelligent laptop gadget expert.\n",
    "    The system message provides guidance on how to respond to user queries based on the product catalog.\n",
    "    It instructs to summarize each laptop's major specifications and price, starting with the most expensive.\n",
    "    The user message confirms the list of products included in the user's profile.\n",
    "\n",
    "    Example:\n",
    "    >>> products = ['Laptop A', 'Laptop B', 'Laptop C']\n",
    "    >>> initialize_conv_reco(products)\n",
    "    [{'role': 'system', 'content': 'You are an intelligent laptop gadget expert and you are tasked with the objective to solve the user queries about any product from the catalogue in the user message. You should keep the user profile in mind while answering the questions.\\n\\nStart with a brief summary of each laptop in the following format, in decreasing order of price of laptops:\\n1. <Laptop Name> : <Major specifications of the laptop>, <Price in Rs>\\n2. <Laptop Name> : <Major specifications of the laptop>, <Price in Rs>\\n\\n'},\n",
    "    {'role': 'user', 'content': \" These are the user's products: ['Laptop A', 'Laptop B', 'Laptop C']\"}]\n",
    "    \"\"\"\n",
    "    system_message = f\"\"\"\n",
    "    You are an intelligent laptop gadget expert and you are tasked with the objective to \\\n",
    "    solve the user queries about any product from the catalogue in the user message \\\n",
    "    You should keep the user profile in mind while answering the questions.\\\n",
    "\n",
    "    Start with a brief summary of each laptop in the following format, in decreasing order of price of laptops:\n",
    "    1. <Laptop Name> : <Major specifications of the laptop>, <Price in Rs>\n",
    "    2. <Laptop Name> : <Major specifications of the laptop>, <Price in Rs>\n",
    "\n",
    "    \"\"\"\n",
    "    user_message = f\"\"\" These are the user's products: {products}\"\"\"\n",
    "    conversation = [{\"role\": \"system\", \"content\": system_message },\n",
    "                    {\"role\":\"user\",\"content\":user_message}]\n",
    "    return conversation\n",
    "    "
   ]
  },
  {
   "cell_type": "code",
   "execution_count": 53,
   "id": "fcbcc143-7288-4701-b8a9-0c3332c932d9",
   "metadata": {
    "collapsed": true,
    "jupyter": {
     "outputs_hidden": true
    },
    "tags": []
   },
   "outputs": [
    {
     "name": "stdout",
     "output_type": "stream",
     "text": [
      "[{'role': 'system', 'content': '\\n    You are an intelligent laptop gadget expert and you are tasked with the objective to     solve the user queries about any product from the catalogue in the user message     You should keep the user profile in mind while answering the questions.\\n    Start with a brief summary of each laptop in the following format, in decreasing order of price of laptops:\\n    1. <Laptop Name> : <Major specifications of the laptop>, <Price in Rs>\\n    2. <Laptop Name> : <Major specifications of the laptop>, <Price in Rs>\\n\\n    '}, {'role': 'user', 'content': ' These are the user\\'s products: [{\"Brand\":\"Dell\",\"Model Name\":\"Inspiron\",\"Core\":\"i5\",\"CPU Manufacturer\":\"Intel\",\"Clock Speed\":\"2.4 GHz\",\"RAM Size\":\"8GB\",\"Storage Type\":\"SSD\",\"Display Type\":\"LCD\",\"Display Size\":\"15.6\\\\\"\",\"Graphics Processor\":\"Intel UHD\",\"Screen Resolution\":\"1920x1080\",\"OS\":\"Windows 10\",\"Laptop Weight\":\"2.5 kg\",\"Special Features\":\"Backlit Keyboard\",\"Warranty\":\"1 year\",\"Average Battery Life\":\"6 hours\",\"Price\":35000,\"Description\":\"The Dell Inspiron is a versatile laptop that combines powerful performance and affordability. It features an Intel Core i5 processor clocked at 2.4 GHz, ensuring smooth multitasking and efficient computing. With 8GB of RAM and an SSD, it offers quick data access and ample storage capacity. The laptop sports a vibrant 15.6\\\\\" LCD display with a resolution of 1920x1080, delivering crisp visuals and immersive viewing experience. Weighing just 2.5 kg, it is highly portable, making it ideal for on-the-go usage. Additionally, it boasts an Intel UHD GPU for decent graphical performance and a backlit keyboard for enhanced typing convenience. With a one-year warranty and a battery life of up to 6 hours, the Dell Inspiron is a reliable companion for work or entertainment. All these features are packed at an affordable price of 35,000, making it an excellent choice for budget-conscious users.\",\"Score\":4},{\"Brand\":\"HP\",\"Model Name\":\"Pavilion\",\"Core\":\"i5\",\"CPU Manufacturer\":\"Intel\",\"Clock Speed\":\"2.3 GHz\",\"RAM Size\":\"12GB\",\"Storage Type\":\"HDD\",\"Display Type\":\"LCD\",\"Display Size\":\"15.6\\\\\"\",\"Graphics Processor\":\"Intel UHD\",\"Screen Resolution\":\"1366x768\",\"OS\":\"Windows 10\",\"Laptop Weight\":\"2.1 kg\",\"Special Features\":\"B&O Audio\",\"Warranty\":\"1 year\",\"Average Battery Life\":\"4 hours\",\"Price\":30000,\"Description\":\"The HP Pavilion is a budget-friendly laptop that offers reliable performance for everyday computing tasks. It features an Intel Core i5 processor running at 2.3 GHz, providing decent processing power for productivity and entertainment. With 12GB of RAM and an HDD, it offers a balance between memory capacity and storage space. The laptop sports a 15.6\\\\\" LCD display with a resolution of 1366x768, offering satisfactory visuals for everyday use. It comes with Intel UHD integrated graphics for basic graphical performance. Weighing 2.1 kg, it strikes a balance between portability and a larger display. The laptop features B&O audio for an enhanced audio experience during multimedia playback. With a one-year warranty and a battery life of up to 4 hours, the HP Pavilion ensures reliable performance for day-to-day tasks. Priced at 30,000, it provides affordability for budget-conscious users seeking\",\"Score\":3},{\"Brand\":\"Lenovo\",\"Model Name\":\"IdeaPad\",\"Core\":\"i3\",\"CPU Manufacturer\":\"Intel\",\"Clock Speed\":\"2.1 GHz\",\"RAM Size\":\"8GB\",\"Storage Type\":\"HDD\",\"Display Type\":\"TN\",\"Display Size\":\"15.6\\\\\"\",\"Graphics Processor\":\"Intel UHD\",\"Screen Resolution\":\"1366x768\",\"OS\":\"Windows 10\",\"Laptop Weight\":\"2.2 kg\",\"Special Features\":\"Dolby Audio\",\"Warranty\":\"1 year\",\"Average Battery Life\":\"5 hours\",\"Price\":25000,\"Description\":\"The Lenovo IdeaPad is a versatile laptop that balances performance and affordability. It features an Intel Core i3 processor running at 2.1 GHz, offering reliable computing power for everyday tasks. With 8GB of RAM and an HDD, it provides adequate memory and storage capacity. The laptop sports a 15.6\\\\\" TN display with a resolution of 1366x768, delivering decent visuals for multimedia consumption. It comes with an Intel UHD GPU for basic graphical performance. Weighing 2.2 kg, it is moderately portable. The laptop is equipped with Dolby Audio for immersive sound quality during media playback. With a one-year warranty and a battery life of up to 5 hours, the Lenovo IdeaPad ensures reliable performance. Priced at 25,000, it offers affordability for users on a budget.\",\"Score\":2}]'}]\n"
     ]
    }
   ],
   "source": [
    "debug_conv_reco = initialize_conversation_reco(top_3_laptops)\n",
    "print(debug_conv_reco)"
   ]
  },
  {
   "cell_type": "code",
   "execution_count": 54,
   "id": "679868d5-5c15-46df-a321-3dee1cf71fff",
   "metadata": {
    "tags": []
   },
   "outputs": [
    {
     "name": "stdout",
     "output_type": "stream",
     "text": [
      "1. Dell Inspiron: Intel Core i5 2.4 GHz, 8GB RAM, SSD, 15.6\" LCD 1920x1080, Intel UHD GPU, Windows 10, 2.5 kg, Backlit Keyboard, 6 hours battery life, Rs 35,000\n",
      "2. HP Pavilion: Intel Core i5 2.3 GHz, 12GB RAM, HDD, 15.6\" LCD 1366x768, Intel UHD GPU, Windows 10, 2.1 kg, B&O Audio, 4 hours battery life, Rs 30,000\n",
      "3. Lenovo IdeaPad: Intel Core i3 2.1 GHz, 8GB RAM, HDD, 15.6\" TN 1366x768, Intel UHD GPU, Windows 10, 2.2 kg, Dolby Audio, 5 hours battery life, Rs 25,000\n",
      "\n",
      "How can I assist you further with these laptops?\n",
      "\n"
     ]
    }
   ],
   "source": [
    "debug_recommendation = get_chat_completion(debug_conv_reco)\n",
    "print(debug_recommendation + '\\n')"
   ]
  },
  {
   "cell_type": "code",
   "execution_count": 55,
   "id": "a1caca15-37bb-414c-8c16-2218f1eb7a60",
   "metadata": {
    "tags": []
   },
   "outputs": [
    {
     "data": {
      "text/plain": [
       "\"\\n{'GPU intensity': 'high', 'Display quality': 'high', 'Portability': 'low', 'Multitasking': 'high', 'Processing speed': 'high', 'Budget': '150000'}\""
      ]
     },
     "execution_count": 55,
     "metadata": {},
     "output_type": "execute_result"
    }
   ],
   "source": [
    "response_dictionary"
   ]
  },
  {
   "cell_type": "code",
   "execution_count": 56,
   "id": "26994bd7-e3af-4cf0-b6e1-7f86624e613c",
   "metadata": {
    "tags": []
   },
   "outputs": [],
   "source": [
    "debug_conv_reco.append({\"role\": \"user\", \"content\": \"This is my user profile\" + str(response_dictionary)})\n",
    "debug_conv_reco.append({\"role\": \"assistant\", \"content\": debug_recommendation})"
   ]
  },
  {
   "cell_type": "code",
   "execution_count": 57,
   "id": "36043f07-44a5-4196-a669-787ddd2f92e3",
   "metadata": {
    "tags": []
   },
   "outputs": [],
   "source": [
    "debug_user_input = \"Which is ideal for travel?\""
   ]
  },
  {
   "cell_type": "code",
   "execution_count": 58,
   "id": "92991594-b9a0-42e2-be9e-dc3a5b0d3253",
   "metadata": {
    "tags": []
   },
   "outputs": [
    {
     "data": {
      "text/plain": [
       "'\\nBased on your user profile where portability is rated as low, the HP Pavilion would be the most suitable option for travel among the laptops mentioned. It is lightweight at 2.1 kg and offers a good balance between performance and portability.\\n'"
      ]
     },
     "metadata": {},
     "output_type": "display_data"
    }
   ],
   "source": [
    "debug_conv_reco.append({\"role\": \"user\", \"content\": debug_user_input})\n",
    "debug_response_asst_reco = get_chat_completion(debug_conv_reco)\n",
    "display('\\n' + debug_response_asst_reco + '\\n')"
   ]
  },
  {
   "cell_type": "markdown",
   "id": "3c89524d-ecf6-4b1f-b96a-c5b5b950e148",
   "metadata": {},
   "source": [
    "## Dialouge management system"
   ]
  },
  {
   "cell_type": "code",
   "execution_count": 59,
   "id": "2d1d1182-3f7a-44a5-8672-a7408d519f26",
   "metadata": {
    "tags": []
   },
   "outputs": [],
   "source": [
    "def dialogue_mgmt_system():\n",
    "    \"\"\"\n",
    "    Manages a conversational system between a user and an assistant to recommend laptops.\n",
    "\n",
    "    This function initializes the conversation, retrieves the introduction, handles user input,\n",
    "    performs moderation checks, and manages the recommendation process based on user interactions.\n",
    "\n",
    "    Returns:\n",
    "        None\n",
    "    \"\"\"\n",
    "\n",
    "    conversation = initialize_conversation()\n",
    "\n",
    "    introduction = get_chat_completion(conversation)\n",
    "\n",
    "    display(introduction + '\\n')\n",
    "\n",
    "    top_3_laptops = None\n",
    "\n",
    "    user_input = ''\n",
    "\n",
    "    while(user_input != \"exit\"):\n",
    "\n",
    "        user_input = input(\"\")\n",
    "\n",
    "        moderation = moderation_check(user_input)\n",
    "        if moderation == 'Flagged':\n",
    "            display(\"Sorry, this message has been flagged. Please restart your conversation.\")\n",
    "            break\n",
    "\n",
    "        if top_3_laptops is None:\n",
    "\n",
    "            conversation.append({\"role\": \"user\", \"content\": user_input})\n",
    "\n",
    "            response_assistant = get_chat_completion(conversation)\n",
    "            moderation = moderation_check(response_assistant)\n",
    "            if moderation == 'Flagged':\n",
    "                display(\"Sorry, this message has been flagged. Please restart your conversation.\")\n",
    "                break\n",
    "\n",
    "            print(response_assistant)\n",
    "            confirmation = intent_confirmation_layer(response_assistant)\n",
    "\n",
    "            print(\"Intent Confirmation Yes/No:\",confirmation)\n",
    "\n",
    "            if confirmation == 'No':\n",
    "                conversation.append({\"role\": \"assistant\", \"content\": str(response_assistant)})\n",
    "                print(\"\\n\" + str(response_assistant) + \"\\n\")\n",
    "\n",
    "            else:\n",
    "                print(\"\\n\" + str(response_assistant) + \"\\n\")\n",
    "                print('\\n' + \"Variables extracted!\" + '\\n')\n",
    "\n",
    "                response = dictionary_present(response_assistant)\n",
    "                print(response)\n",
    "                print(\"Thank you for providing all the information. Kindly wait, while I fetch the products: \\n\")\n",
    "                top_3_laptops = compare_laptop_with_user(response)\n",
    "\n",
    "                print(\"top 3 laptops are\", top_3_laptops)\n",
    "\n",
    "                validated_reco = recommendation_validation(top_3_laptops)\n",
    "\n",
    "                conversation_reco = initialize_conversation_reco(validated_reco)\n",
    "\n",
    "                conversation_reco.append({\"role\": \"user\", \"content\": \"This is my user profile\" + str(response)})\n",
    "\n",
    "                recommendation = get_chat_completion(conversation_reco)\n",
    "\n",
    "                moderation = moderation_check(recommendation)\n",
    "                if moderation == 'Flagged':\n",
    "                    display(\"Sorry, this message has been flagged. Please restart your conversation.\")\n",
    "                    break\n",
    "\n",
    "                conversation_reco.append({\"role\": \"assistant\", \"content\": str(recommendation)})\n",
    "\n",
    "                print(str(recommendation) + '\\n')\n",
    "        else:\n",
    "            conversation_reco.append({\"role\": \"user\", \"content\": user_input})\n",
    "\n",
    "            response_asst_reco = get_chat_completion(conversation_reco)\n",
    "\n",
    "            moderation = moderation_check(response_asst_reco)\n",
    "            if moderation == 'Flagged':\n",
    "                print(\"Sorry, this message has been flagged. Please restart your conversation.\")\n",
    "                break\n",
    "\n",
    "            print('\\n' + response_asst_reco + '\\n')\n",
    "            conversation.append({\"role\": \"assistant\", \"content\": response_asst_reco})"
   ]
  },
  {
   "cell_type": "code",
   "execution_count": 60,
   "id": "ba300d12-d987-498f-a30c-8037dd968a3c",
   "metadata": {
    "tags": []
   },
   "outputs": [
    {
     "data": {
      "text/plain": [
       "\"Hello! I'm here to help you find the best laptop that suits your needs. Please share your requirements with me.\\n\""
      ]
     },
     "metadata": {},
     "output_type": "display_data"
    },
    {
     "name": "stdout",
     "output_type": "stream",
     "text": [
      " Hi I am abhijit, I am a coder, i need a laptop {'GPU intensity':'high',  'Display quality':'high',  'Portability':'low',  'Multitasking':'low',  'Processing speed':'low',  'Budget':'50000'}\n"
     ]
    },
    {
     "name": "stdout",
     "output_type": "stream",
     "text": [
      "Great to have you here, Abhijit! As a coder, you likely require a laptop with high GPU intensity and display quality for coding and programming tasks. Since you mentioned that multitasking is not a high priority for you, we can keep that at a low level. Additionally, you prefer low portability and processing speed.\n",
      "\n",
      "Could you please let me know your budget for the laptop? This will help me find the best options that fit your requirements.\n",
      "Intent Confirmation Yes/No: \n",
      "Yes\n",
      "\n",
      "Great to have you here, Abhijit! As a coder, you likely require a laptop with high GPU intensity and display quality for coding and programming tasks. Since you mentioned that multitasking is not a high priority for you, we can keep that at a low level. Additionally, you prefer low portability and processing speed.\n",
      "\n",
      "Could you please let me know your budget for the laptop? This will help me find the best options that fit your requirements.\n",
      "\n",
      "\n",
      "Variables extracted!\n",
      "\n",
      "\n",
      "{'GPU intensity': 'high', 'Display quality': 'high', 'Portability': 'low', 'Multitasking': 'low', 'Processing speed': 'low', 'Budget': 'unknown'}\n",
      "Thank you for providing all the information. Kindly wait, while I fetch the products: \n",
      "\n"
     ]
    },
    {
     "ename": "ValueError",
     "evalue": "invalid literal for int() with base 10: 'unknown'",
     "output_type": "error",
     "traceback": [
      "\u001b[1;31m---------------------------------------------------------------------------\u001b[0m",
      "\u001b[1;31mValueError\u001b[0m                                Traceback (most recent call last)",
      "Cell \u001b[1;32mIn[60], line 1\u001b[0m\n\u001b[1;32m----> 1\u001b[0m dialogue_mgmt_system()\n",
      "Cell \u001b[1;32mIn[59], line 57\u001b[0m, in \u001b[0;36mdialogue_mgmt_system\u001b[1;34m()\u001b[0m\n\u001b[0;32m     55\u001b[0m \u001b[38;5;28mprint\u001b[39m(response)\n\u001b[0;32m     56\u001b[0m \u001b[38;5;28mprint\u001b[39m(\u001b[38;5;124m\"\u001b[39m\u001b[38;5;124mThank you for providing all the information. Kindly wait, while I fetch the products: \u001b[39m\u001b[38;5;130;01m\\n\u001b[39;00m\u001b[38;5;124m\"\u001b[39m)\n\u001b[1;32m---> 57\u001b[0m top_3_laptops \u001b[38;5;241m=\u001b[39m compare_laptop_with_user(response)\n\u001b[0;32m     59\u001b[0m \u001b[38;5;28mprint\u001b[39m(\u001b[38;5;124m\"\u001b[39m\u001b[38;5;124mtop 3 laptops are\u001b[39m\u001b[38;5;124m\"\u001b[39m, top_3_laptops)\n\u001b[0;32m     61\u001b[0m validated_reco \u001b[38;5;241m=\u001b[39m recommendation_validation(top_3_laptops)\n",
      "Cell \u001b[1;32mIn[44], line 46\u001b[0m, in \u001b[0;36mcompare_laptop_with_user\u001b[1;34m(user_req_string)\u001b[0m\n\u001b[0;32m     44\u001b[0m laptop_df\u001b[38;5;241m=\u001b[39m pd\u001b[38;5;241m.\u001b[39mread_csv(\u001b[38;5;124m'\u001b[39m\u001b[38;5;124mupdated_df.csv\u001b[39m\u001b[38;5;124m'\u001b[39m)\n\u001b[0;32m     45\u001b[0m user_requirements \u001b[38;5;241m=\u001b[39m extract_dictionary_from_string(user_req_string)\n\u001b[1;32m---> 46\u001b[0m budget \u001b[38;5;241m=\u001b[39m \u001b[38;5;28mint\u001b[39m(user_requirements\u001b[38;5;241m.\u001b[39mget(\u001b[38;5;124m'\u001b[39m\u001b[38;5;124mbudget\u001b[39m\u001b[38;5;124m'\u001b[39m, \u001b[38;5;124m'\u001b[39m\u001b[38;5;124m0\u001b[39m\u001b[38;5;124m'\u001b[39m)\u001b[38;5;241m.\u001b[39mreplace(\u001b[38;5;124m'\u001b[39m\u001b[38;5;124m,\u001b[39m\u001b[38;5;124m'\u001b[39m, \u001b[38;5;124m'\u001b[39m\u001b[38;5;124m'\u001b[39m)\u001b[38;5;241m.\u001b[39msplit()[\u001b[38;5;241m0\u001b[39m])\n\u001b[0;32m     47\u001b[0m \u001b[38;5;66;03m#This line retrieves the value associated with the key 'budget' from the user_requirements dictionary.\u001b[39;00m\n\u001b[0;32m     48\u001b[0m \u001b[38;5;66;03m#If the key is not found, the default value '0' is used.\u001b[39;00m\n\u001b[0;32m     49\u001b[0m \u001b[38;5;66;03m#The value is then processed to remove commas, split it into a list of strings, and take the first element of the list.\u001b[39;00m\n\u001b[0;32m     50\u001b[0m \u001b[38;5;66;03m#Finally, the resulting value is converted to an integer and assigned to the variable budget.\u001b[39;00m\n\u001b[0;32m     55\u001b[0m filtered_laptops \u001b[38;5;241m=\u001b[39m laptop_df\u001b[38;5;241m.\u001b[39mcopy()\n",
      "\u001b[1;31mValueError\u001b[0m: invalid literal for int() with base 10: 'unknown'"
     ]
    }
   ],
   "source": [
    "dialogue_mgmt_system()"
   ]
  },
  {
   "cell_type": "code",
   "execution_count": null,
   "id": "2d4b509d-b3f2-472a-a74c-b761321bc869",
   "metadata": {},
   "outputs": [],
   "source": []
  },
  {
   "cell_type": "code",
   "execution_count": null,
   "id": "fb52865c-6805-471a-ba66-beb1aa2404fd",
   "metadata": {},
   "outputs": [],
   "source": []
  },
  {
   "cell_type": "markdown",
   "id": "ce4e1278-b3c4-4d8b-9a87-0134cfbedc09",
   "metadata": {},
   "source": [
    "## Assignment"
   ]
  },
  {
   "cell_type": "code",
   "execution_count": null,
   "id": "2b989954-794b-4e6a-95ca-e0d52759bd8e",
   "metadata": {},
   "outputs": [],
   "source": []
  },
  {
   "cell_type": "code",
   "execution_count": null,
   "id": "2b8468ca-9742-401f-86c1-117e362f7cee",
   "metadata": {},
   "outputs": [],
   "source": []
  },
  {
   "cell_type": "code",
   "execution_count": 88,
   "id": "18ef8f46-6e4e-4891-b065-48a3b9811222",
   "metadata": {
    "tags": []
   },
   "outputs": [],
   "source": [
    "def extract_details_layer(description):\n",
    "    delimiter = \"#####\"\n",
    "    hotel_spec = {\n",
    "      \"Location\":\"(Type of the hotel location)\",\n",
    "      \"Price\":\"(Price per night)\",\n",
    "      \"Amenities\":\"(Amenities available)\",\n",
    "      \"Reviews and Ratings\":\"(Review and ratings)\",\n",
    "      \"Room Type and Size\":\"(Room type and size)\"\n",
    "    }\n",
    "\n",
    "\n",
    "    values = {'best', 'good', 'not good', 'low','medium','high'}\n",
    "\n",
    "\n",
    "    prompt=f\"\"\"\n",
    "    You are a Hotel Specifications Classifier whose job is to extract the key features of hotels as per their requirements.\n",
    "    To analyze each hotel, perform the following steps:\n",
    "    Step 1: Extract the hotels's primary features from the description {description}\n",
    "    Step 2: Store the extracted features in {hotel_spec} \\\n",
    "    Step 3: Classify each of the items in {hotel_spec}into {values} based on the following rules: \\\n",
    "    {delimiter}\n",
    "    Location: best: < if Close to hiking trails or if stunning mountain views or if Close bo beach. > , \\n\n",
    "    good: < if distance 5 to 10 minutes > , \\n\n",
    "    not good: < if distance greater than 30 minutes > , \\n\n",
    "\n",
    "\n",
    "    Price: low: < if price less than 5000 > , \\n\n",
    "    medium: < if price greater than 5000 > , \\n\n",
    "    high: < if price greater than 10000 > \\n\n",
    "\n",
    "\n",
    "    Amenities: best: < Wi-Fi, air conditioning, parking, indoor pool, gym, spa, mini-bar, safe, flat-screen TV, toiletries. > , \\n\n",
    "    good: < Wi-Fi, air conditioning, mini-bar, safe, flat-screen TV, toiletries > , \\n\n",
    "    not good: < Wi-Fi, toiletries> \\n\n",
    "\n",
    "\n",
    "    Reviews and Ratings: best: < review greater tha 4 > , \\n\n",
    "    good: < review greater tyhan 3 and less than 4 > , \\n\n",
    "    not good: < review less than 3> \\n\n",
    "\n",
    "\n",
    "    Room Type and Size: best: < Standard, deluxe, and suites, spacious rooms with rustic decor and mountain views or sea beach view. > , \\n\n",
    "    good: < Standard, deluxe, and suites, spacious rooms without decor > , \\n\n",
    "    not good: < spacious rooms without decor > \\n\n",
    "    {delimiter}\n",
    "\n",
    "\n",
    "    {delimiter}\n",
    "    Here are some input output pairs for few-shot learning:\n",
    "    input1: \"\"Location\": \"Close to beach\",\n",
    "        \"Price\": \"6000\",\n",
    "        \"Amenities\": \"Wi-Fi, air conditioning, parking, indoor pool, gym, spa, mini-bar, safe, flat-screen TV, toiletries.\",\n",
    "        \"Reviews and Ratings\": \"4.6 stars, praised for cleanliness, service quality, and scenic views.\",\n",
    "        \"Room Type and Size\": \"Standard, deluxe, and suites, spacious rooms with rustic decor and mountain views.\",\"\n",
    "    output1: {{'Location': 'best','Price':'medium','Amenities':'best','Reviews and Ratings':'best','Room Type and Size':'best'}}\n",
    "\n",
    "\n",
    "    \n",
    "    {delimiter}\n",
    "\n",
    "\n",
    "    Follow the above instructions step-by-step and output the dictionary {hotel_spec} for the following laptop {laptop_description}.\n",
    "    \"\"\"\n",
    "\n",
    "    \n",
    "    response = openai.completions.create(\n",
    "                    model = 'gpt-3.5-turbo-instruct',\n",
    "                    prompt = prompt,\n",
    "                    temperature = 0,\n",
    "                    max_tokens = 900   \n",
    "    \n",
    "    )\n",
    "    return response.choices[0].text"
   ]
  },
  {
   "cell_type": "code",
   "execution_count": 89,
   "id": "88598d3b-f168-4528-a429-56453cfc21c2",
   "metadata": {
    "tags": []
   },
   "outputs": [],
   "source": [
    "des =  f\"\"\"Location: Close to beach., Price: 12000 per night,Amenities: Wi-Fi, flat-screen TV, toiletries., Reviews and Ratings\": \"3.6 stars, praised for cleanliness, service quality, and scenic views., Room Type and Size\": \"spacious rooms with rustic decor.\"\"\""
   ]
  },
  {
   "cell_type": "code",
   "execution_count": 90,
   "id": "7a67a7ed-0197-4089-9a82-7131edb1391a",
   "metadata": {
    "tags": []
   },
   "outputs": [
    {
     "name": "stdout",
     "output_type": "stream",
     "text": [
      "\n",
      "{'Location': 'not good', 'Price': 'low', 'Amenities': 'good', 'Reviews and Ratings': 'good', 'Room Type and Size': 'good'}\n"
     ]
    }
   ],
   "source": [
    "det = extract_details_layer(des)\n",
    "print(det)"
   ]
  },
  {
   "cell_type": "code",
   "execution_count": null,
   "id": "f183fcd3-9ac7-44ed-aef6-3640f4b804e0",
   "metadata": {},
   "outputs": [],
   "source": []
  },
  {
   "cell_type": "code",
   "execution_count": null,
   "id": "c286d981-ee09-4e76-83aa-c345a686af02",
   "metadata": {},
   "outputs": [],
   "source": []
  }
 ],
 "metadata": {
  "kernelspec": {
   "display_name": "Python 3 (ipykernel)",
   "language": "python",
   "name": "python3"
  },
  "language_info": {
   "codemirror_mode": {
    "name": "ipython",
    "version": 3
   },
   "file_extension": ".py",
   "mimetype": "text/x-python",
   "name": "python",
   "nbconvert_exporter": "python",
   "pygments_lexer": "ipython3",
   "version": "3.11.4"
  }
 },
 "nbformat": 4,
 "nbformat_minor": 5
}
